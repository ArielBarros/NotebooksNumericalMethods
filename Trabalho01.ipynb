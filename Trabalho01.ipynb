{
 "cells": [
  {
   "cell_type": "markdown",
   "metadata": {},
   "source": [
    "# Departamento de Engenharia de Teleinformática\n",
    "\n",
    "# Computação Numérica / Métodos Numéricos\n",
    "\n",
    "# Tarcisio Ferreira Maciel, Dr.-Ing. (Professor: [maciel@ufc.br](mailto:maciel@ufc.br))\n",
    "\n",
    "# Darlan Cavalcante Moreira, M.Sc. (Colaborador: [darlan@gtel.ufc.br](mailto:darlan@gtel.ufc.br))"
   ]
  },
  {
   "cell_type": "markdown",
   "metadata": {},
   "source": [
    "## Identificação do aluno\n",
    "\n",
    "Nome: Ariel da Silva Barros\n",
    "\n",
    "Matrícula: 374918"
   ]
  },
  {
   "cell_type": "markdown",
   "metadata": {},
   "source": [
    "## Instruções\n",
    "\n",
    "As questões abaixo devem ser resolvidas aqui mesmo no **Jupyter Notebook** e podem envolver tanto soluções escritas em markdown (veja sintaxe para markdown [aqui](https://daringfireball.net/projects/markdown/basics)), como soluções em código. A questão 0 abaixo serve de exemplo de como as questões devem ser resolvidas.\n",
    "\n",
    "<div class=\"alert alert-warning\">\n",
    "**Dica:** em células markdown vocês podem usar dois espaços para criar uma quebra de linha.\n",
    "</div>"
   ]
  },
  {
   "cell_type": "markdown",
   "metadata": {},
   "source": [
    "## Questão 0\n",
    "\n",
    "Para entender como as questões devem ser resolvidas, faça:\n",
    "\n",
    "1. Em que país estamos?\n",
    "2. Implemente uma função que retorne o dobro da entrada\n"
   ]
  },
  {
   "cell_type": "markdown",
   "metadata": {},
   "source": [
    "## Solução de 0\n",
    "\n",
    "<!-- Não apague o div -->\n",
    "<div class=\"solucao alert alert-success\">\n",
    "\n",
    "Estamos no Brasil.\n",
    "\n",
    "<!-- Não apague o div -->\n",
    "</div>"
   ]
  },
  {
   "cell_type": "code",
   "execution_count": null,
   "metadata": {
    "collapsed": true
   },
   "outputs": [],
   "source": [
    "# Solução de 2: Implementação em python\n",
    "def dobro(x):\n",
    "    return 2 * x"
   ]
  },
  {
   "cell_type": "markdown",
   "metadata": {},
   "source": [
    "----"
   ]
  },
  {
   "cell_type": "markdown",
   "metadata": {},
   "source": [
    "## Questão 1\n",
    "Escreva um programa em C/C++11 e uma **função** equivalente em Python 3.X que leia um número de ponto flutuante de 32 ou 64 bits e que imprima esse os bits desse número no formato IEEE-754 $b_S|b_1 b_2 \\ldots b_E|b_1 b_2 \\ldots b_M$ onde (S, E, M) é igual a (1, 8, 23) para precisão simples e (1, 11, 52) para precisão dupla. Note que nesta questão é suficiente imprimir a forma binária do número não sendo necessário implementar o processo de normalização."
   ]
  },
  {
   "cell_type": "markdown",
   "metadata": {},
   "source": [
    "## Solução em C/C++11:\n",
    "\n",
    "Edite e coloque o código na célula Markdown abaixo."
   ]
  },
  {
   "cell_type": "markdown",
   "metadata": {},
   "source": [
    "```C\n",
    "#include<stdio.h>\n",
    "\n",
    "typedef union{ // usar union faz com que a mesma porção de memória seja compartilhada entre o float e a struct\n",
    "      float f;\n",
    "      struct{\n",
    "        // o ponto flutuante na memória é disposto da seguinte forma.\n",
    "        unsigned int mantissa : 23; // reservado para a mantissa 23 bits. 0 à 22\n",
    "        unsigned int expoente : 8; // reservado para o expoente 8 bits. 23 à 30\n",
    "        unsigned int sinal : 1; // reservado para o sinal com 1 bit. 31\n",
    "      } parte;\n",
    "} pontoFlutuante32;\n",
    "\n",
    "typedef union{ // usar union faz com que a mesma porção de memória seja compartilhada entre o double e a struct\n",
    "      double d;\n",
    "      struct{\n",
    "        // o ponto flutuante na memória é disposto da seguinte forma.\n",
    "        unsigned int mantissa1 : 31; // reservado para a mantissa 52 bits. 0 à 51\n",
    "        unsigned int mantissa2 : 21; // reservado para a mantissa 52 bits. 0 à 51\n",
    "        unsigned int expoente : 11; // reservado para o expoente 8 bits. 52 à 62\n",
    "        unsigned int sinal : 1; // reservado para o sinal com 1 bit. 63\n",
    "      } parte;\n",
    "} pontoFlutuante64;\n",
    "\n",
    "void binario(int n, int i){\n",
    "    int j;\n",
    "    for (i--; i >= 0; i--){\n",
    "      j = n >> i;\n",
    "      // usando operadores bit a bit para verificar o estado de cada bit\n",
    "      if (j & 1)\n",
    "        printf(\"1\");\n",
    "      else\n",
    "        printf(\"0\");\n",
    "    }\n",
    "}\n",
    "\n",
    "int main(){\n",
    "  int opcao;\n",
    "  printf(\"1) Float | 2) Double: \");\n",
    "  scanf(\"%d\",&opcao);\n",
    "  if(opcao == 1 ){\n",
    "    pontoFlutuante32 numero32;\n",
    "    printf(\"Digite um ponto flutuante: \");\n",
    "    scanf(\"%f\",&numero32.f);\n",
    "    printf(\"Representação de 32 bits: \");\n",
    "    printf(\"%d \",numero32.parte.sinal);\n",
    "    binario(numero32.parte.expoente, 8);\n",
    "    printf(\" \");\n",
    "    binario(numero32.parte.mantissa, 23);\n",
    "    printf(\"\\n\");\n",
    "  }else{\n",
    "    pontoFlutuante64 numero64;\n",
    "    printf(\"Digite um ponto flutuante: \");\n",
    "    scanf(\"%lf\",&numero64.d);\n",
    "    printf(\"Representação de 64 bits: \");\n",
    "    printf(\"%d \",numero64.parte.sinal);\n",
    "    binario(numero64.parte.expoente, 11);\n",
    "    printf(\" \");\n",
    "    binario(numero64.parte.mantissa2, 21);\n",
    "    binario(numero64.parte.mantissa1, 31);\n",
    "    printf(\"\\n\");\n",
    "  }\n",
    "  return 0;\n",
    "}\n",
    "```"
   ]
  },
  {
   "cell_type": "markdown",
   "metadata": {},
   "source": [
    "## Solução em Python 3.X:"
   ]
  },
  {
   "cell_type": "code",
   "execution_count": 1,
   "metadata": {
    "collapsed": false
   },
   "outputs": [
    {
     "name": "stdout",
     "output_type": "stream",
     "text": [
      "Valor binário em IEEE 754 - 32 bits: 11000000101100100001100001001010\n",
      "Valor binário em IEEE 754 - 64 bits: 1100000000010110010000110000100101000001110010000010000101101100\n"
     ]
    }
   ],
   "source": [
    "import struct as st\n",
    "import numpy as np\n",
    "\n",
    "def Binario32(numero):\n",
    "    # Objeto empacotado com o formato 'f' float IEEE 754 32 bits com 4 bytes\n",
    "    # depois o objeto em float é transformado para formato inteiro 'I' com 4 bytes. \n",
    "    # É Necessário que os dois parametros da função unpack sejam objetos de mesmo tamanho (4 bytes nesse caso)\n",
    "    valorEmInteiro = st.unpack('I', st.pack('f', numero))[0]\n",
    "    return str(bin(valorEmInteiro))[2:]\n",
    "\n",
    "def Binario64(numero):\n",
    "    # Objeto empacotada com o formato 'd' double IEEE 754 64 bits com 8 bytes\n",
    "    # depois o objeto em double é transformado para formato inteiro 'Q' com 8 bytes.\n",
    "    # É Necessário que os dois parametros da função unpack sejam objetos de mesmo tamanho (8 bytes nesse caso)\n",
    "    valorEmInteiro = st.unpack('Q', st.pack('d', numero) )[0]\n",
    "    return str(bin(valorEmInteiro))[2:]\n",
    "\n",
    "# Exemplo: converter o número -5.565465.\n",
    "print('Valor binário em IEEE 754 - 32 bits: {}'.format(Binario32(-5.565465))) \n",
    "print('Valor binário em IEEE 754 - 64 bits: {}'.format(Binario64(-5.565465)))"
   ]
  },
  {
   "cell_type": "markdown",
   "metadata": {},
   "source": [
    "## Questão 2\n",
    "Escreva uma **função** programa em Python 3.X que  **implemente** o processo de normalização para converter um número de ponto flutuante de 32 ou 64 bits para sua forma binária no padrão IEEE-754."
   ]
  },
  {
   "cell_type": "code",
   "execution_count": 2,
   "metadata": {
    "collapsed": false
   },
   "outputs": [
    {
     "name": "stdout",
     "output_type": "stream",
     "text": [
      "Sinal = 0 | Expoente = 5 | Mantissa32 = 0.7643250226974487 | Mantissa64 = 0.7643249999999999\n",
      "Representação binária de 32 bits: 0|10000100|11000011101010101100111\n",
      "Representação binária de 64 bits: 0|10000000100|1100001110101010110011011001111010000011111001000010\n"
     ]
    }
   ],
   "source": [
    "import numpy as np\n",
    "\n",
    "def dec2bin(x): # função para converter um número INTEIRO decimal para binário.\n",
    "    return bin(x)[2:] \n",
    "\n",
    "def normalization(number):\n",
    "    number32 = np.float32(number) # casting para precisão simples.\n",
    "    \n",
    "    if number > 0: # seta o bit de sinal.\n",
    "        sinal = 0 # caso número for positivo\n",
    "    else:\n",
    "        sinal = 1 # caso número for negativo\n",
    "        \n",
    "    expoent = 0\n",
    "    normalizado = number\n",
    "           \n",
    "    # Normalização para 32 e expoente para 32 e 64 bits\n",
    "    normalizado32 = number32\n",
    "    if abs(number32) < 1 and abs(number32) > 0: # para números com módulo entre 0 e 1 cujo os expoentes de 2 são negativos\n",
    "        while abs(normalizado32) < 1:\n",
    "            normalizado32 = normalizado32 * 2 # fazer multiplicações sucessivar até a mantissa assumir valor de  1,ddd...\n",
    "            expoent -= 1 # Ao fim do while obtemos o expoente.\n",
    "    else:\n",
    "        while abs(normalizado32) > 2: # para números quem podem ser divididos com expoente positivo.\n",
    "            normalizado32 = normalizado32 / 2 # fazer divisões sucessivas até a mantissa assumir valor de 1,ddd...\n",
    "            expoent += 1 # Ao fim do while obtemos o expoente.\n",
    "       \n",
    "    # Normalização para 64 bits\n",
    "    normalizado64 = number\n",
    "    if abs(number) < 1 and abs(number) > 0: # para números com módulo entre 0 e 1 cujo os expoentes de 2 são negativos\n",
    "        while abs(normalizado64) < 1:\n",
    "            normalizado64 = normalizado64 * 2 # fazer multiplicações sucessivar até assumir valor de  1,ddd...\n",
    "    else:\n",
    "        while abs(normalizado64) > 2: # para números quem podem ser divididos com expoente positivo.\n",
    "            normalizado64 = normalizado64 / 2 # fazer divisões sucessivas até assumir valor de 1,ddd...\n",
    "            \n",
    "    expoent32 = ''        \n",
    "    expoent64 = ''\n",
    "    # código abaixo usado para completar com zeros o restante de casas do expoente na representação do número.\n",
    "    for i in range(0, 8 - len(dec2bin(expoent + 127))):\n",
    "        expoent32 += str(0)\n",
    "    for i in range(0, 11 - len(dec2bin(expoent + 1023))):\n",
    "        expoent64 += str(0)\n",
    "        \n",
    "    expoent32 += dec2bin(expoent + 127) # expoente em binário com polarização.\n",
    "    expoent64 += dec2bin(expoent + 1023) # expoente em binário com polarização.\n",
    "    \n",
    "    mantissa32 = abs(normalizado32) % 1 # pega somente o resto do número normalizado restando a mantissa na forma 0.ddd...\n",
    "    mantissa64 = abs(normalizado64) % 1 # pega somente o resto do número normalizado restando a mantissa na forma 0.ddd...\n",
    "    \n",
    "    print(\"Sinal = {} | Expoente = {} | Mantissa32 = {} | Mantissa64 = {}\".format(sinal, expoent, mantissa32, mantissa64))\n",
    "    \n",
    "    mantissaBinary32 = ''\n",
    "    mantissaBinary64 = ''\n",
    "    while mantissa32 != 1:\n",
    "        # multiplica sempre a parte fracionária da mantissa a cada iteração.\n",
    "        mantissa32 = mantissa32 % 1 * 2\n",
    "        # concatena a parte inteira da mantissa atual que é 0 ou 1.\n",
    "        mantissaBinary32 += str(int(mantissa32 - mantissa32 % 1))\n",
    "        \n",
    "    while mantissa64 != 1:\n",
    "        # multiplica sempre a parte fracionária da mantissa a cada iteração.\n",
    "        mantissa64 = mantissa64 % 1 * 2\n",
    "        # concatena a parte inteira da mantissa atual que é 0 ou 1.\n",
    "        mantissaBinary64 += str(int(mantissa64 - mantissa64 % 1))\n",
    "        \n",
    "    while len(mantissaBinary32) < 23: # se necessário completa o resto não usado da mantissa com zeros.\n",
    "        mantissaBinary32 += str(0)\n",
    "        \n",
    "    while len(mantissaBinary64) < 52: # se necessário completa o resto não usado da mantissa com zeros.\n",
    "        mantissaBinary64 += str(0)\n",
    "        \n",
    "    print(\"Representação binária de 32 bits: {}\".format(str(sinal) +'|'+ expoent32 +'|'+ mantissaBinary32))\n",
    "    print(\"Representação binária de 64 bits: {}\".format(str(sinal) +'|'+ expoent64 +'|'+ mantissaBinary64))\n",
    "\n",
    "normalization(56.4584) # Cuidado com overflow/underflow"
   ]
  },
  {
   "cell_type": "markdown",
   "metadata": {},
   "source": [
    "## Questão 3\n",
    "Utilizando o contéudo da seção 3.4.1 do livro *Métodos Numéricos para Engenharia, 5a. Ed.* de *Steven Chapra & Raymond Canale* faça:\n",
    "\n",
    "1. Crie um conjunto de números hipotético em ponto flutuante para uma máquina que armazena informação usando palavras de 8 bits com (1, 3, 5) para (S, E, M). Considere que o expoente seja polarizado. Determine também o $\\varepsilon$ da máquina.\n",
    "\n",
    "2. Escreva uma **função** em Python 3.X que determine o epsilon de seu computador."
   ]
  },
  {
   "cell_type": "markdown",
   "metadata": {},
   "source": [
    "## Solução:\n",
    "\n",
    "<!-- Não apague o div -->\n",
    "<div class=\"solucao alert alert-success\">\n",
    "\n",
    "Escreva aqui sua solução de 1.\n",
    "O menor número positivo que pode ser representado tem a seguinte configuração: <br/>\n",
    "$0$ para o bit de sinal. <br/>Para um bias igual a $2^{k-1} - 1 = 3$ com $k = 3$ , logo o menor expoente é então -3 que polarizado é iqual a 0.<br/>\n",
    "$1000$ para a mantissa. Logo,<br/>\n",
    "$00001000 = +0.5 \\times 2^{-3} = 0,0625$<br/>\n",
    "E as próximos números são:<br/><br/>\n",
    "$00001001 = (1 \\times 2^{-1} + 0 \\times 2^{-2} + 0 \\times 2^{-3} + 1 \\times 2^{-4}) \\times 2^{-3} = 0.0703125_{10}$ <br/>\n",
    "$00001010 = (1 \\times 2^{-1} + 0 \\times 2^{-2} + 1 \\times 2^{-3} + 0 \\times 2^{-4}) \\times 2^{-3} = 0.078125_{10}$ <br/>\n",
    "$00001011 = (1 \\times 2^{-1} + 0 \\times 2^{-2} + 1 \\times 2^{-3} + 1 \\times 2^{-4}) \\times 2^{-3} = 0.0859375_{10}$ <br/>\n",
    "$00001100 = (1 \\times 2^{-1} + 0 \\times 2^{-2} + 1 \\times 2^{-3} + 1 \\times 2^{-4}) \\times 2^{-3} = 0.09375_{10}$ <br/>\n",
    "$00001101 = (1 \\times 2^{-1} + 0 \\times 2^{-2} + 1 \\times 2^{-3} + 1 \\times 2^{-4}) \\times 2^{-3} = 0.1015625_{10}$ <br/>\n",
    "$00001110 = (1 \\times 2^{-1} + 0 \\times 2^{-2} + 1 \\times 2^{-3} + 1 \\times 2^{-4}) \\times 2^{-3} = 0.109375_{10}$ <br/>\n",
    "$00001111 = (1 \\times 2^{-1} + 0 \\times 2^{-2} + 1 \\times 2^{-3} + 1 \\times 2^{-4}) \\times 2^{-3} = 0.1171875_{10}$ <br/>\n",
    "\n",
    "Igualmente espaçados em $7.8125 \\times 10^{-3}$<br/><br/>\n",
    "O próximo número já é com expoente $-2$ que em binário no formato polarizado é $001$. A mantissa então volta a ser $1000$.\n",
    "$00011000 = (1 \\times 2^{-1} + 0 \\times 2^{-2} + 0 \\times 2^{-3} + 0 \\times 2^{-4}) \\times 2^{-2} = 0.125_{10}$ <br/>\n",
    "O salto entre os dois números ainda continua sendo $7.8125 \\times 10^{-3}$ porém para valores mais altos o salto passa a ser:<br/>\n",
    "$0.125 - 0.140625 = 0.015625$ . E assim por diante, de acordo com o módulo do número.<br/><br/>\n",
    "O maior número que pode ser representado é: $01111111 = 15_{10}$ <br/>\n",
    "Assim o intervalo representável em módulo é: $[0,0625_{10},15_{10}]$ acima disso e abaixo é overflow e underflow, respectivamente.<br/><br/>\n",
    "O $\\epsilon$ da máquina é $\\epsilon = b^{1-t} = 2^{1-4} = 0.125$\n",
    "<!-- Não apague o div -->\n",
    "</div>"
   ]
  },
  {
   "cell_type": "code",
   "execution_count": 3,
   "metadata": {
    "collapsed": false
   },
   "outputs": [
    {
     "data": {
      "text/plain": [
       "2.220446049250313e-16"
      ]
     },
     "execution_count": 3,
     "metadata": {},
     "output_type": "execute_result"
    }
   ],
   "source": [
    "# Implemente sua solução de 2 aqui acompanhada de um exemplo de uso.\n",
    "\n",
    "def epsDeMaquina(eps, display):\n",
    "    i = 0 # variável para registrar o número de iterações\n",
    "    while 1 + eps != 1: # a condição de parada é achar um número tão pequeno que seja o limite para que o número 1 não mude.\n",
    "        epsMenor = eps # o eps atual é armazenado até que que outro eps menor que ele seja testado.\n",
    "        eps = eps / 2 # a cada iteração o eps é dividido por 2 de modo a reprensentar um número cada vez menor na mantissa.\n",
    "        if display:\n",
    "            print('iteração {0}: {1}'.format(i, eps))\n",
    "        i+=1\n",
    "    return epsMenor\n",
    "\n",
    "epsDeMaquina(1,False) # chamada da função com o eps inicial igual a 1"
   ]
  },
  {
   "cell_type": "markdown",
   "metadata": {},
   "source": [
    "## Questão 4\n",
    "Escreva funções em Python 3.X que calculem $e^{-5}$ usando\n",
    "\n",
    "1. $e^{-x} = 1 - x + \\dfrac{x^2}{2!} - \\dfrac{x^2}{3!} + \\ldots $,\n",
    "2. $e^{-x} = \\dfrac{1}{e^x} = \\dfrac{1}{1 + x + \\dfrac{x^2}{2!} + \\dfrac{x^2}{3!} + \\ldots} $,\n",
    "\n",
    "e compare com o valor exato. Considere os $N$ (fornecido como parâmetro) primeiros termos e apresente o erro relativo absoluto para cada termo que for adicionado."
   ]
  },
  {
   "cell_type": "code",
   "execution_count": 4,
   "metadata": {
    "collapsed": false
   },
   "outputs": [
    {
     "name": "stdout",
     "output_type": "stream",
     "text": [
      "1 termo(s) Erro = 147.4131591025766\n",
      "2 termo(s) Erro = 594.6526364103064\n",
      "3 termo(s) Erro = 1260.5118523719013\n",
      "4 termo(s) Erro = 1831.428962265111\n",
      "5 termo(s) Erro = 2033.4970560311547\n",
      "6 termo(s) Erro = 1831.428962265111\n",
      "7 termo(s) Erro = 1389.3427196484438\n",
      "8 termo(s) Erro = 911.2084817183812\n",
      "9 termo(s) Erro = 526.6360191358842\n",
      "10 termo(s) Erro = 272.16648133870774\n",
      "11 termo(s) Erro = 127.23476889858826\n",
      "12 termo(s) Erro = 54.31125393654629\n",
      "13 termo(s) Erro = 21.332922244759768\n",
      "14 termo(s) Erro = 7.7609916711271785\n",
      "15 termo(s) Erro = 2.629691870261016\n",
      "16 termo(s) Erro = 0.8338693102017155\n",
      "17 termo(s) Erro = 0.24849355869288794\n",
      "18 termo(s) Erro = 0.0698484615702308\n",
      "19 termo(s) Erro = 0.01857987739174658\n",
      "20 termo(s) Erro = 0.0046907381245633265\n",
      "resultado para a expansão 1:  0.00670634105421557\n",
      "1 termo(s) Erro = 147.4131591025766\n",
      "2 termo(s) Erro = 23.735526517096098\n",
      "3 termo(s) Erro = 7.0223329244636\n",
      "4 termo(s) Erro = 2.773215909387541\n",
      "5 termo(s) Erro = 1.270182166004996\n",
      "6 termo(s) Erro = 0.6234803183508834\n",
      "7 termo(s) Erro = 0.3120200694193033\n",
      "8 termo(s) Erro = 0.15389720146394248\n",
      "9 termo(s) Erro = 0.0730691808307633\n",
      "10 termo(s) Erro = 0.0328743851197011\n",
      "11 termo(s) Erro = 0.013885433337545782\n",
      "12 termo(s) Erro = 0.005482991167805822\n",
      "13 termo(s) Erro = 0.002022935634334704\n",
      "14 termo(s) Erro = 0.0006984775094422271\n",
      "15 termo(s) Erro = 0.00022630487848758832\n",
      "16 termo(s) Erro = 6.901300432190683e-05\n",
      "17 termo(s) Erro = 1.98694384172234e-05\n",
      "18 termo(s) Erro = 5.416367607032841e-06\n",
      "19 termo(s) Erro = 1.4016998570100605e-06\n",
      "20 termo(s) Erro = 3.452137013995593e-07\n",
      "resultado para a expansão 2:  0.00673794932511709\n"
     ]
    }
   ],
   "source": [
    "import numpy as np\n",
    "\n",
    "se = np.exp(-5) # Se = 0.006737946999085467 - Solução exata\n",
    "\n",
    "def erroRelativoAbsoluto(y):\n",
    "    return abs( (se - y) / se )\n",
    "    \n",
    "def f(x,N): # Usando a primeira expansão. \n",
    "    y = 0\n",
    "    for n in range(0,N): # para ir iterando os termos da série.\n",
    "        y += (-x) ** n / np.math.factorial(n) # cálculo de cada termo\n",
    "        print(\"{} termo(s) Erro = {}\".format(n+1, erroRelativoAbsoluto(y)))\n",
    "    return y\n",
    "\n",
    "def g(x,N): # Usando a segunda expansão.\n",
    "    y = 0\n",
    "    for n in range(0,N): # para ir iterando os termos da série.\n",
    "        y += x ** n / np.math.factorial(n)\n",
    "        print(\"{} termo(s) Erro = {}\".format(n+1, erroRelativoAbsoluto(1/y)))\n",
    "    return 1 / y\n",
    "\n",
    "print(\"resultado para a expansão 1: \", f(5,20))\n",
    "print(\"resultado para a expansão 2: \", g(5,20))"
   ]
  },
  {
   "cell_type": "markdown",
   "metadata": {},
   "source": [
    "## Questão 5\n",
    "Calcule o polinômio $p(x) = x^3 - 7x^2 + 8x - 0,35 $ em $ x = 1,37 $. Use aritmética com 3 algarismos significativos e  e **truncamento**. Calcule o erro relativo absoluto comparado ao valor exato de $p(x)$. Repita o processo considerando $p(x)$ expresso como $p(x) = ((x - 7)x + 8)x - 0,35$. Apresente sua solução em texto e em Python 3.X."
   ]
  },
  {
   "cell_type": "markdown",
   "metadata": {},
   "source": [
    "## Solução:\n",
    "\n",
    "<!-- Não apague o div -->\n",
    "<div class=\"solucao alert alert-success\">\n",
    "\n",
    "Calculando $p(x)$ com 3 algarismos em todos os passos tem-se: <br/> <br/>\n",
    "$p(1,37) = (1,37)^3 - 7(1,37)^2 + 8(1,37) - 0.35$ <br/>\n",
    "$p(1,37) = 2,57 - 13,1 + 10,9 - 0,35 $ <br/>\n",
    "$p(1,37) = -10,5 + 10,9 - 0,35$ <br/>\n",
    "$p(1,37) = 0.05$ <br/> <br/>\n",
    "\n",
    "Calculando com toda a precisão da calculadora: <br/> \n",
    "$p(1,37) = (1,37)^3 - 7(1,37) ^2 + 8(1,37) - 0.35$ <br/>\n",
    "$p(1,37) = 0,043053$ <br/> <br/>\n",
    "\n",
    "Logo, o erro relativo absoluto é: <br/>\n",
    "$E_{Abs} = \\left| \\dfrac{S_{Exata} - S_{Num} }{S_{Exata}} \\right|$ <br/><br/>\n",
    "$E_{Abs} = \\left| \\dfrac{0,043053 - 0.05}{0,043053} \\right| = 0.161359254$ <br/><br/>\n",
    "\n",
    "Calculando a segunda definição $p(x)$ com 3 algarismos em todos os passos tem-se: <br/> <br/>\n",
    "$p(1,37) = ((1,37 - 7)1,37 + 8)1,37 - 0,35$ <br/>\n",
    "$p(1,37) = (-7,71 + 8)1,37 - 0,35$<br/>\n",
    "$p(1,37) = 0,39 - 0,35 = 0.04$<br/><br/>\n",
    "\n",
    "Calculando com toda a precisão da calculadora: <br/> \n",
    "$p(1,37) = ((1,37 - 7)1,37 + 8)1,37 - 0,35$ <br/>\n",
    "$p(1,37) = 0,043053$\n",
    "\n",
    "Logo, o erro relativo absoluto é: <br/>\n",
    "$E_{Abs} = \\left| \\dfrac{S_{Exata} - S_{Num} }{S_{Exata}} \\right|$ <br/><br/>\n",
    "$E_{Abs} = \\left| \\dfrac{0,043053 - 0.04}{0,043053} \\right| = 0.070912596$ <br/><br/>\n",
    "<!-- Não apegue o div -->\n",
    "</div>"
   ]
  },
  {
   "cell_type": "code",
   "execution_count": 5,
   "metadata": {
    "collapsed": false
   },
   "outputs": [
    {
     "name": "stdout",
     "output_type": "stream",
     "text": [
      "Resultado da primeira definição de p(x) com 3 algarismos significativos: 0.0500\n",
      "Resultado da primeira definição de p(x) usando toda a precisão do computador: 0.04305300000000012\n",
      "Erro Relativo Absoluto da primeira definição de p(x): 0.16135925487189892\n",
      "-------------------------------------------------------------------------------------------------\n",
      "Resultado da segunda definição de p(x) com 3 algarismos significativos: 0.0470\n",
      "Resultado da primeira definição de p(x) usando toda a precisão do computador: 0.043052999999999064\n",
      "Erro Relativo Absoluto da segunda definição de p(x): 0.09167769957961168\n"
     ]
    }
   ],
   "source": [
    "from decimal import *\n",
    "getcontext().prec = 3 # Usando 3 algarismos significativos.\n",
    "\n",
    "# Usando a primeira definição de p(x) com 3 algarismos significativos.\n",
    "def p(x):\n",
    "    return Decimal(x) ** 3 - 7 * Decimal(x) ** 2 + 8 * Decimal(x) - Decimal(0.35)\n",
    "\n",
    "# Usando a primeira definição de p(x) com toda a precisão do computador. \n",
    "def p2(x):\n",
    "    return x ** 3 - 7 * x ** 2 + 8 * x - 0.35\n",
    "\n",
    "# Usando a segunda definição de p(x) com 3 algarismos significativos.\n",
    "def q(x):\n",
    "    return ((Decimal(x) - 7) * Decimal(x) + 8) * Decimal(x) - Decimal(0.35)\n",
    "\n",
    "# Usando a segunda definição de p(x) com toda a precisão do computador.\n",
    "def q2(x):\n",
    "    return ((x - 7) * x + 8) * x - 0.35\n",
    "\n",
    "def erroRelativoAbsoluto(se,sn):\n",
    "    return abs( (se - sn) / se)\n",
    "\n",
    "print(\"Resultado da primeira definição de p(x) com 3 algarismos significativos: {}\".format(p(1.37)))\n",
    "print(\"Resultado da primeira definição de p(x) usando toda a precisão do computador: {}\".format(p2(1.37)))\n",
    "print(\"Erro Relativo Absoluto da primeira definição de p(x): {}\".format(erroRelativoAbsoluto(p2(1.37) , float(p(1.37)))))\n",
    "print(\"-------------------------------------------------------------------------------------------------\")\n",
    "print(\"Resultado da segunda definição de p(x) com 3 algarismos significativos: {}\".format(q(1.37)))\n",
    "print(\"Resultado da primeira definição de p(x) usando toda a precisão do computador: {}\".format(q2(1.37)))\n",
    "print(\"Erro Relativo Absoluto da segunda definição de p(x): {}\".format(erroRelativoAbsoluto(q2(1.37) , float(q(1.37)))))\n"
   ]
  },
  {
   "cell_type": "markdown",
   "metadata": {},
   "source": [
    "## Questão 6\n",
    "Escreva um programa em Python 3.X para determinar o número de termos necessários para aproximar $ \\cos(0,3\\pi) $ a partir da sua expansão em série de MacLaurin até 8 algarismos significativos."
   ]
  },
  {
   "cell_type": "markdown",
   "metadata": {},
   "source": [
    "## Solução:\n",
    "\n",
    "<!-- Não apague o div -->\n",
    "<div class=\"solucao alert alert-success\">\n",
    "\n",
    "A série de MacLaurin nada mais é do que a série de taylor em torno de 0. Assumindo a série de maclaurin para o cos(x) pode ser generalizada da seguinte forma:\n",
    "$$cos(x) = \\sum\\limits_{n = 1}^{\\infty} \\dfrac{(-1)^n \\cdot x^{2n}}{(2n)!}$$\n",
    "O que pode-se concluir da série de MacLaurin é que quanto maior o número de termos da série, menor é o erro da solução. O número de termos é obtido na implementação em python abaixo.\n",
    "\n",
    "<!-- Não apague o div -->\n",
    "</div>"
   ]
  },
  {
   "cell_type": "code",
   "execution_count": 6,
   "metadata": {
    "collapsed": false
   },
   "outputs": [
    {
     "name": "stdout",
     "output_type": "stream",
     "text": [
      "São necessários 6 termos para aproximar o valor com 8 algarismos significativos\n"
     ]
    }
   ],
   "source": [
    "import numpy as np\n",
    "\n",
    "def cos2Laurin(x):\n",
    "    sn, n = 0, 0\n",
    "    se = np.cos(x) # 0.58778525229247314 Solução exata\n",
    "    while abs(se - sn) > 10**(-8):\n",
    "        sn += (-1)**n * x**(2*n) / np.math.factorial(2*n) # expansão em série de MacLaurin para cos(x)\n",
    "        if False: # modifique para True para ver mais detalhes\n",
    "            print(\"Usando {} termo(s). cos(x) = {}\".format(n+1,sn))\n",
    "        n += 1\n",
    "    return n\n",
    "\n",
    "print(\"São necessários {} termos para aproximar o valor com 8 algarismos significativos\".format(cos2Laurin(0.3 * np.pi)))"
   ]
  },
  {
   "cell_type": "markdown",
   "metadata": {},
   "source": [
    "## Questão 7\n",
    "A razão áurea pode ser definida como a razão que divide um segmento de tamanho $a + b$ de tal modo que a parte menor $a$ está para a parte maior $b$ na mesma proporção que a parte maior $b$ está para o todo $a + b$. Crie uma função ```Python GoldenSection(f, a, b, tol)``` em Python 3.X que implemente uma versão do método da bisseção que divida o intervalo segundo a razão áurea. Implemente também uma função ```Python Bissection(f, a, b, tol)``` que implemente o método da bisseção clássico e compare os dois métodos através de um exemplo de aplicação."
   ]
  },
  {
   "cell_type": "markdown",
   "metadata": {},
   "source": [
    "## Solução:\n",
    "\n",
    "<!-- Não apague o div -->\n",
    "<div class=\"solucao alert alert-success\">\n",
    "\n",
    "A razão áurea é dada portanto como $\\dfrac{a+b}{b} = \\dfrac{b}{a} = \\phi$. Utilizaremos o $\\phi$ na implementação em python abaixo. A constante $\\phi$ é determinanda fazendo os seguintes passos:<br/>\n",
    "$$\\dfrac{b}{a} = \\phi \\rightarrow \n",
    "b = a\\phi \\rightarrow  \n",
    "\\dfrac{a + a\\phi}{a\\phi} = \\dfrac{a\\phi}{a} \\rightarrow \n",
    "\\dfrac{\\phi + 1}{\\phi} = \\phi \\rightarrow\n",
    "\\phi + 1 = \\phi^2 \\rightarrow\n",
    "\\phi^2 - \\phi -1 = 0 $$ <br/>\n",
    "Resolvendo a equação quadrática para $\\phi$ (VER QUESTÃO 8). Assim, $\\phi = 1.61803398875$ <br/>\n",
    "Supondo que a solução esteja no intervalo $[x_1,x_2]$, e seguindo as mesmas definições que são exigidas no método da bissecção, pode-se reescrever os tamanhos a e b em função dos intervalos da seguinte forma. $x_{ns} = x_1 + a \\rightarrow a = x_{ns} - x_1$ e $x_2 = X_{ns} + b \\rightarrow b = x_2 - x_{ns}$. Substituindo em um dos lados da razão áurea tem-se: $\\dfrac{b}{a} = \\phi \\rightarrow \\dfrac{x_2 - x_{ns}}{x_{ns} - x_1} = \\phi$. Portanto, \n",
    "$$x_{ns} = \\dfrac{x_2+\\phi x_1}{1 + \\phi}$$ <br/>\n",
    "Os mesmos valores de $x_{ns}$ podem ser obtidos substituindo em $\\dfrac{a+b}{b} = \\phi$ (EU TESTEI !).<br/>\n",
    "\n",
    "<!-- Não apague o div -->\n",
    "</div>"
   ]
  },
  {
   "cell_type": "code",
   "execution_count": 7,
   "metadata": {
    "collapsed": false
   },
   "outputs": [
    {
     "name": "stdout",
     "output_type": "stream",
     "text": [
      "Usando Bissecção: 0.9486833572387696 com 19 iterações\n",
      "Usando GoldenSection: 0.9486838104431444 com 21 iterações\n"
     ]
    }
   ],
   "source": [
    "import numpy as np\n",
    "\n",
    "def f(x):\n",
    "    return x**2 - 0.90\n",
    "    \n",
    "def GoldenSection(f, a, b, tol):\n",
    "    if f(a)*f(b) > 0:\n",
    "        print(\"Não existe solução no intervalo dado\")\n",
    "    else:\n",
    "        phi = 1.61803398875 # golden ratio, a constante é determinada na questão 8.\n",
    "        xns = (b + phi*a) / (1 + phi);\n",
    "        numIter = 0\n",
    "        while abs(f(xns)) > tol:\n",
    "            if False: # modifique para True para ver mais detalhes\n",
    "                print(\"iteração: {} | a = {} | b = {} | xns = {} | f(xns) = {}\".format(numIter, a, b, xns, f(xns)))\n",
    "            if f(a)*f(xns) < 0:\n",
    "                b = xns\n",
    "            if f(xns)*f(b) < 0:\n",
    "                a = xns\n",
    "            xns = (b + phi*a) / (1 + phi);\n",
    "            numIter += 1\n",
    "        return xns, numIter\n",
    "\n",
    "def Bissection(f, a, b, tol):\n",
    "    if f(a)*f(b) > 0:\n",
    "        print(\"Não existe solução no intervalo dado\")\n",
    "    else:\n",
    "        xns = (a + b) / 2;\n",
    "        numIter = 0\n",
    "        while abs(f(xns)) > tol:\n",
    "            if False: # modifique para True para ver mais detalhes\n",
    "                print(\"iteração: {} | a = {} | b = {} | xns = {} | f(xns) = {}\".format(numIter, a, b, xns, f(xns)))\n",
    "            if f(a)*f(xns) < 0:\n",
    "                b = xns\n",
    "            if f(xns)*f(b) < 0:\n",
    "                a = xns\n",
    "            xns = (a + b) / 2;\n",
    "            numIter += 1\n",
    "        return xns, numIter\n",
    "\n",
    "print(\"Usando Bissecção: {0} com {1} iterações\".format(*Bissection(f,0.3,2.5,10**-6)))\n",
    "print(\"Usando GoldenSection: {0} com {1} iterações\".format(*GoldenSection(f,0.3,2.5,10**-6)))"
   ]
  },
  {
   "cell_type": "markdown",
   "metadata": {},
   "source": [
    "## Questão 8\n",
    "A fim de atenuar a natureza frequentemente unilateral do método da falsa posição, implemente uma **função** em ```Python ModifiedRegulaFalsi(f, a, b, tol)``` em Python 3.X que divida por dois o valor de $f(x)$ no limite do intervalo que permanecer inalterado por três iterações consecutivas, substituindo assim a secante do método original por uma reta de menor inclinação (veja o exercício 3.18 do livro *Métodos Numéricos para Engenheiros e Cientistas* de *Amos Gilat & Vish Subramaniam*). Crie também uma função ```Python RegulaFalsi(f, a, b, tol)``` que implemente o método original. Compare os métodos através de um exemplo de aplicação."
   ]
  },
  {
   "cell_type": "markdown",
   "metadata": {},
   "source": [
    "## Solução:\n",
    "\n",
    "<!-- Não apague o div -->\n",
    "<div class=\"solucao alert alert-success\">\n",
    "\n",
    "Um estudante de Engenharia de Computação deseja calcular o valor $\\phi$ da razão áurea para um trabalho da faculdade. A equação é dada por: $$f(\\phi) = \\phi ^ 2 - \\phi - 1 = 0$$\n",
    "O estudante resolve calcular a raiz de duas formas, uma é usando o método da falsa posição e outra forma é uma modificação desse método, O intuito é ver como é a convergência em cada método.\n",
    "<!-- Não apague o div -->\n",
    "</div>"
   ]
  },
  {
   "cell_type": "code",
   "execution_count": 8,
   "metadata": {
    "collapsed": false
   },
   "outputs": [
    {
     "name": "stdout",
     "output_type": "stream",
     "text": [
      "Usando 8 iterações para ModifiedRegulaFalsi com phi = 1.618033988749891\n",
      "Usando 17 iterações para RegulaFalsi com phi = 1.6180339883185437\n"
     ]
    }
   ],
   "source": [
    "def f(x):\n",
    "    return x**2 - x - 1 # usando uma função CÔNCAVA próxima a solução, no caso o phi da razão áurea\n",
    "\n",
    "def ModifiedRegulaFalsi(f, a, b, tol):\n",
    "    contA, contB = 0, 0\n",
    "    if f(a)*f(b) > 0:\n",
    "        print(\"Não existe solução no intervalo dado\")\n",
    "        return None\n",
    "    else:\n",
    "        xns = (a*f(b) - b*f(a)) / (f(b) - f(a))\n",
    "        numIter = 0                           \n",
    "        while abs(f(xns)) > tol:\n",
    "            if False: # modifique para True para ver mais detalhes\n",
    "                print(\"iteração: {} | a = {} | b = {} | xns = {} | f(xns) = {}\".format(numIter, a, b, xns, f(xns)))\n",
    "            if f(a)*f(xns) < 0:                \n",
    "                b = xns\n",
    "                contA += 1 # contador guarda que a não está mudando \n",
    "            if f(xns)*f(b) < 0:\n",
    "                a = xns\n",
    "                contB += 1 # contador guarda que b não está mudando \n",
    "            '''\n",
    "            Parte que muda do método convencional\n",
    "            Aqui analisa se o intervalo em questão está estático a três iterações.\n",
    "            Em caso afirmativo Xns é definido de forma modificada de acordo como dito na questão.\n",
    "            Caso nenhum dos dois intervalos esteja no limite de iterações, xns é definido da maneira convencional.\n",
    "            '''\n",
    "            if contA == 3:\n",
    "                xns = (a * f(b) - b * f(a) / 2) / (f(b) - f(a) / 2)\n",
    "                contA = 0 # zera o contador para reiniciar o processo de monitoração\n",
    "            elif contB == 3:\n",
    "                xns = (a * f(b) / 2 - b * f(a)) / (f(b) / 2 - f(a))\n",
    "                contB = 0 # zera o contador para reiniciar o processo de monitoração\n",
    "            else:\n",
    "                xns = (a*f(b) - b*f(a)) / (f(b) - f(a))\n",
    "            numIter += 1\n",
    "        return numIter, xns \n",
    "\n",
    "def RegulaFalsi(f, a, b, tol):\n",
    "    if f(a)*f(b) > 0:\n",
    "        print(\"Não existe solução no intervalo dado\")\n",
    "        return None\n",
    "    else:\n",
    "        xns = (a*f(b) - b*f(a)) / (f(b) - f(a)) # definindo valor inicial de xns\n",
    "        numIter = 0\n",
    "        while abs(f(xns)) > tol:\n",
    "            if False: # modifique para True para ver mais detalhes\n",
    "                print(\"iteração: {} | a = {} | b = {} | xns = {} | f(xns) = {}\".format(numIter, a, b, xns, f(xns)))\n",
    "            if f(a)*f(xns) < 0:\n",
    "                b = xns\n",
    "            if f(xns)*f(b) < 0:\n",
    "                a = xns\n",
    "            xns = (a*f(b) - b*f(a)) / (f(b) - f(a))\n",
    "            numIter += 1\n",
    "        return numIter, xns\n",
    "\n",
    "print(\"Usando {0} iterações para ModifiedRegulaFalsi com phi = {1}\".format(*ModifiedRegulaFalsi(f,0.3,2.5,10**-9)))\n",
    "print(\"Usando {0} iterações para RegulaFalsi com phi = {1}\".format(*RegulaFalsi(f,0.3,2.5,10**-9)))"
   ]
  },
  {
   "cell_type": "markdown",
   "metadata": {},
   "source": [
    "## Questão 9\n",
    "Em vez de usar dois valores arbitrários para fazer uma estimativa da derivada, uma abordagem alternativa envolve utilizar uma pequena perturbação $\\delta x$ da variável independente $x$ para fazer\n",
    "$$f'(x_i) \\approxeq \\dfrac{f(x_i + \\delta x_i) - f(x_i)}{\\delta x_i} $$\n",
    "onde $\\delta$ é uma pequena fração de perturbação. Utilizando essa formulação, implemente uma função ```Python ModifiedSecant(f, x, delta, tol)``` em Python 3.X para o método da secante."
   ]
  },
  {
   "cell_type": "markdown",
   "metadata": {},
   "source": [
    "## Solução:\n",
    "\n",
    "<!-- Não apague o div -->\n",
    "<div class=\"solucao alert alert-success\">\n",
    "\n",
    "O método da secante é dado por: $x_{i+1} = x_i - \\dfrac{f(x_i)(x_i - x_{i-1})}{f(x_i) - f(x_{i-1})}$ (1) , como pedido na questão\n",
    "trataremos $x_{i-1} = x_i + \\delta x_i$ (2). Substituindo a equação (2) na equação (1) conclui-se que a equação iterativa da secante fica:\n",
    "$$x_{i+1} = x_i - \\dfrac{f(x_i) \\cdot \\delta x_i}{f(x_i + \\delta x_i) - f(x_i)}$$\n",
    "O que é aproximadamente igual a equação iterativa do método de Newton, porém com um valor de delta não tão infinitesimal a considerar.\n",
    "\n",
    "<!-- Não apague o div -->\n",
    "</div>"
   ]
  },
  {
   "cell_type": "code",
   "execution_count": 9,
   "metadata": {
    "collapsed": false
   },
   "outputs": [
    {
     "name": "stdout",
     "output_type": "stream",
     "text": [
      "raiz = 0.9486834274088517\n"
     ]
    }
   ],
   "source": [
    "def f(x):\n",
    "    return x**2 - 0.90\n",
    "\n",
    "def ModifiedSecant(f, x, delta, tol):\n",
    "    i = 2\n",
    "    xns = x - f(x) * delta / (f(x + delta) - f(x))\n",
    "    while abs(f(xns)) > tol:\n",
    "        if False: # modifique para True para ver mais detalhes\n",
    "            print(\"iteração: {} | xi = {} | xi-1 = {} | xns = {} | f(xns) = {}\".format(i,x,x + delta,xns,f(xns)))\n",
    "        x = xns\n",
    "        xns = x - f(x) * delta / (f(x + delta) - f(x))\n",
    "        i += 1\n",
    "    return xns\n",
    "    \n",
    "print(\"raiz = {}\".format(ModifiedSecant(f,2, 10**(-9), 10**(-6))))\n",
    "    "
   ]
  },
  {
   "cell_type": "markdown",
   "metadata": {},
   "source": [
    "## Questão 10\n",
    "\n",
    "Solucione utilizando **Python 3.X** as questões 3.23, 3.29, 3.30 e 3.33 (esta última pelos métodos do ponto fixo e de Newton) do livro *Métodos Numéricos para Engenheiros e Cientistas* de *Amos Gilat & Vish Subramaniam*. Sempre que possível suas soluções devem ser genéricas o suficiente para permitir a variação de parâmetros. Sempre que possível, enriqueça suas soluções com a utilização de gráficos, equações e textos explicativos.\n",
    "\n",
    "<div class=\"alert alert-warning\">\n",
    "**Nota**: Para resolver essa questão vocês precisarão criar uma ou mais células abaixo dessa.\n",
    "</div>"
   ]
  },
  {
   "cell_type": "code",
   "execution_count": 10,
   "metadata": {
    "collapsed": false
   },
   "outputs": [
    {
     "name": "stdout",
     "output_type": "stream",
     "text": [
      "a) T = 266.4222717285156 °C\n",
      "b) Usando fsolve T = [ 266.42203679] °C\n"
     ]
    }
   ],
   "source": [
    "# Implementação do Exercício 3.23\n",
    "# Item (a)\n",
    "def R(T):\n",
    "    A = 3.90802e-3\n",
    "    B = 0.580195e-6\n",
    "    return B*T**2 - A*T + 1\n",
    "\n",
    "def BissecaoRaiz(f, a, b, tol):\n",
    "    if f(a)*f(b) > 0:\n",
    "        print(\"Não existe solução no intervalo dado\")\n",
    "    else:\n",
    "        xns = (a + b) / 2;\n",
    "        numIter = 0\n",
    "        while abs(f(xns)) > tol:\n",
    "            if False: # modifique para True para ver mais detalhes\n",
    "                print(\"iteração: {} | a = {} | b = {} | xns = {} | f(xns) = {}\".format(numIter, a, b, xns, f(xns)))\n",
    "            if f(a)*f(xns) < 0:\n",
    "                b = xns\n",
    "            if f(xns)*f(b) < 0:\n",
    "                a = xns\n",
    "            xns = (a + b) / 2;\n",
    "            numIter += 1\n",
    "        return xns\n",
    "\n",
    "print(\"a) T = {} °C\".format(BissecaoRaiz(R,200,300,10**-6)))\n",
    "\n",
    "# Item (b)\n",
    "from scipy.optimize import fsolve\n",
    "print(\"b) Usando fsolve T = {} °C\".format(fsolve(R,200)))"
   ]
  },
  {
   "cell_type": "code",
   "execution_count": 11,
   "metadata": {
    "collapsed": false
   },
   "outputs": [
    {
     "name": "stdout",
     "output_type": "stream",
     "text": [
      "a) frequência f = 43.04570767979231 Hz\n",
      "b) Usando fsolve f = [ 43.06811584] Hz\n"
     ]
    }
   ],
   "source": [
    "# Implementação do Exercício 3.29\n",
    "# Item (a)\n",
    "import numpy as np\n",
    "def f(x):\n",
    "    R  = 140    # Resistência [Ohm] \n",
    "    L  = 260e-3 # Indutância [H]\n",
    "    C  = 25e-6  # Capacitância [F]\n",
    "    vm = 24     # Tensão [V]\n",
    "    im = 0.15   # Corrente [A]\n",
    "    return vm / np.sqrt(R**2 + ( 2*np.pi*x*L - 1/(2*np.pi*x*C))**2) - im\n",
    "\n",
    "def SecanteRaiz(f, xa, xb, err):\n",
    "    i = 0\n",
    "    xns = xa - f(xa) * (xa - xb) / (f(xa) - f(xb))\n",
    "    while abs(f(xns)) > err:\n",
    "        if False: # modifique para True para ver mais detalhes\n",
    "            print(\"iteração: {} | xns = {} | f(xns) = {}\".format(i, xns, f(xns)))\n",
    "        xb = xa\n",
    "        xa = xns\n",
    "        xns = xa - f(xa) * (xa - xb) / (f(xa) - f(xb))\n",
    "        i += 1\n",
    "    return xns\n",
    "\n",
    "print(\"a) frequência f = {} Hz\".format(SecanteRaiz(f,30,50,0.0001)))\n",
    "\n",
    "# Item (b)\n",
    "from scipy.optimize import fsolve\n",
    "print(\"b) Usando fsolve f = {} Hz\".format(fsolve(f,50)))"
   ]
  },
  {
   "cell_type": "markdown",
   "metadata": {},
   "source": [
    "## Questão 11\n",
    "\n",
    "Solucione utilizando **Python 3.X** as questões 8.28, 8.30, 8.32 do livro *Métodos Numéricos para Engenharia, 5a. Ed.* de *Steven Chapra & Raymond Canale*. Sempre que possível suas soluções devem ser genéricas o suficiente para permitir a variação de parâmetros. Sempre que possível, enriqueça suas soluções com a utilização de gráficos, equações e textos explicativos.\n",
    "\n",
    "<div class=\"alert alert-warning\">\n",
    "**Nota**: Para resolver essa questão vocês precisarão criar uma ou mais células abaixo dessa.\n",
    "</div>"
   ]
  },
  {
   "cell_type": "code",
   "execution_count": 12,
   "metadata": {
    "collapsed": false
   },
   "outputs": [
    {
     "name": "stdout",
     "output_type": "stream",
     "text": [
      "raiz = 1.4295081615447996e-05\n"
     ]
    }
   ],
   "source": [
    "# Implementação do Exercício 8.28\n",
    "import numpy as np\n",
    "np.seterr(divide='ignore', invalid='ignore')\n",
    "def g(C):\n",
    "    R = 280  # Resistência [Ohm] \n",
    "    L = 7.5  # Indutância [H]\n",
    "    t = 0.05 # Tempo [s]\n",
    "    return np.exp((R*t)/(2*L)*(-1))*np.cos(np.sqrt( 1 / (L*C) - (R/(2*L))**2)*t) - 0.01\n",
    "\n",
    "def BissecaoRaiz(f, a, b, tol):\n",
    "    if f(a)*f(b) > 0:\n",
    "        print(\"Não existe solução no intervalo dado\")\n",
    "    else:\n",
    "        xns = (a + b) / 2;\n",
    "        numIter = 0\n",
    "        while abs(f(xns)) > tol:\n",
    "            if False: # modifique para True para ver mais detalhes\n",
    "                print(\"iteração: {} | a = {} | b = {} | xns = {} | f(xns) = {}\".format(numIter, a, b, xns, f(xns)))\n",
    "            if f(a)*f(xns) < 0:\n",
    "                b = xns\n",
    "            if f(xns)*f(b) < 0:\n",
    "                a = xns\n",
    "            xns = (a + b) / 2;\n",
    "            numIter += 1\n",
    "        return xns\n",
    "\n",
    "print(\"raiz = {}\".format(BissecaoRaiz(g,6e-5,1e-6,10**(-6))))"
   ]
  },
  {
   "cell_type": "code",
   "execution_count": 13,
   "metadata": {
    "collapsed": false
   },
   "outputs": [
    {
     "name": "stdout",
     "output_type": "stream",
     "text": [
      "Usando o método da bissecção raiz = 9227539062.5\n",
      "Usando o método da secante modificada raiz = 9227527630.142675\n"
     ]
    }
   ],
   "source": [
    "# Implementação do Exercício 8.30\n",
    "%matplotlib inline\n",
    "import numpy as np\n",
    "import matplotlib.pyplot as plt\n",
    "\n",
    "def f(N):\n",
    "    T0 = 300     \n",
    "    T  = 1000\n",
    "    mi = 1350\n",
    "    q  = 1.7e-19 \n",
    "    ni = 6.21e9\n",
    "    p  = 6.5e6\n",
    "    return p*q*(0.5*(N+np.sqrt(N**2 + 4*ni**2)))*(mi*(T/T0)**(-2.42)) - 1\n",
    "# item (a)\n",
    "def BissecaoRaiz(f, a, b, tol):\n",
    "    if f(a)*f(b) > 0:\n",
    "        print(\"Não existe solução no intervalo dado\")\n",
    "    else:\n",
    "        xns = (a + b) / 2;\n",
    "        numIter = 0\n",
    "        while abs(f(xns)) > tol:\n",
    "            if False: # modifique para True para ver mais detalhes\n",
    "                print(\"iteração: {} | a = {} | b = {} | xns = {} | f(xns) = {}\".format(numIter, a, b, xns, f(xns)))\n",
    "            if f(a)*f(xns) < 0:\n",
    "                b = xns\n",
    "            if f(xns)*f(b) < 0:\n",
    "                a = xns\n",
    "            xns = (a + b) / 2;\n",
    "            numIter += 1\n",
    "        return xns\n",
    "# item (b)\n",
    "def ModifiedSecant(f, x, delta, tol):\n",
    "    i = 2\n",
    "    xns = x - f(x) * delta / (f(x + delta) - f(x))\n",
    "    while abs(f(xns)) > tol:\n",
    "        if False: # modifique para True para ver mais detalhes\n",
    "            print(\"iteração: {} | xi = {} | xi-1 = {} | xns = {} | f(xns) = {}\".format(i,x,x + delta,xns,f(xns)))\n",
    "        x = xns\n",
    "        xns = x - f(x) * delta / (f(x + delta) - f(x))\n",
    "        i += 1\n",
    "    return xns\n",
    "\n",
    "print(\"Usando o método da bissecção raiz = {}\".format(BissecaoRaiz(f,9e9, 1e10, 10**(-6))))\n",
    "print(\"Usando o método da secante modificada raiz = {}\".format(ModifiedSecant(f,1e10, 10**(-3), 10**(-6))))"
   ]
  },
  {
   "cell_type": "code",
   "execution_count": 14,
   "metadata": {
    "collapsed": false
   },
   "outputs": [
    {
     "name": "stdout",
     "output_type": "stream",
     "text": [
      "Usando a bissecção foi preciso 20 iterações para um W = 157.90880250930786\n",
      "Usando a regulafalsi foi preciso 2584 iterações para um W = 157.90904999843724\n"
     ]
    },
    {
     "data": {
      "image/png": "[encoded data removed]",
      "text/plain": [
       "<matplotlib.figure.Figure at 0x1ea0ee304e0>"
      ]
     },
     "metadata": {},
     "output_type": "display_data"
    }
   ],
   "source": [
    "# Implementação do Exercício 8.32\n",
    "%matplotlib inline\n",
    "import numpy as np\n",
    "import matplotlib.pyplot as plt\n",
    "from matplotlib import rcParams\n",
    "\n",
    "np.seterr(divide='ignore', invalid='ignore')\n",
    "\n",
    "def f(w):\n",
    "    R  = 225    # Resistência [Ohm] \n",
    "    L  = 0.5    # Indutância [H]\n",
    "    C  = 0.6e-6 # Capacitância [F]\n",
    "    Z  = 75     # Impedância [Ohm] \n",
    "    return Z*np.sqrt(1/R**2 + (w*C - 1/(w*L))**2) - 1\n",
    "\n",
    "def BissecaoRaiz(f, a, b, tol):\n",
    "    if f(a)*f(b) > 0:\n",
    "        print(\"Não existe solução no intervalo dado\")\n",
    "    else:\n",
    "        xns = (a + b) / 2;\n",
    "        numIter = 0\n",
    "        while abs(f(xns)) > tol:\n",
    "            if False: # modifique para True para ver mais detalhes\n",
    "                print(\"iteração: {} | a = {} | b = {} | xns = {} | f(xns) = {}\".format(numIter, a, b, xns, f(xns)))\n",
    "            if f(a)*f(xns) < 0:\n",
    "                b = xns\n",
    "            if f(xns)*f(b) < 0:\n",
    "                a = xns\n",
    "            xns = (a + b) / 2;\n",
    "            numIter += 1\n",
    "        return numIter, xns\n",
    "    \n",
    "def RegulaFalsi(f, a, b, tol):\n",
    "    if f(a)*f(b) > 0:\n",
    "        print(\"Não existe solução no intervalo dado\")\n",
    "        return None\n",
    "    else:\n",
    "        xns = (a*f(b) - b*f(a)) / (f(b) - f(a)) # definindo valor inicial de xns\n",
    "        numIter = 0\n",
    "        while abs(f(xns)) > tol:\n",
    "            if False: # modifique para True para ver mais detalhes\n",
    "                print(\"iteração: {} | a = {} | b = {} | xns = {} | f(xns) = {}\".format(numIter, a, b, xns, f(xns)))\n",
    "            if f(a)*f(xns) < 0:\n",
    "                b = xns\n",
    "            if f(xns)*f(b) < 0:\n",
    "                a = xns\n",
    "            xns = (a*f(b) - b*f(a)) / (f(b) - f(a))\n",
    "            numIter += 1\n",
    "        return numIter, xns\n",
    "\n",
    "[i1, root1] = BissecaoRaiz(f,1,1000,10**-6)\n",
    "[i2, root2] = RegulaFalsi(f,1,1000,10**-6)\n",
    "print(\"Usando a bissecção foi preciso {0} iterações para um W = {1}\".format(i1, root1))\n",
    "print(\"Usando a regulafalsi foi preciso {0} iterações para um W = {1}\".format(i2, root2))\n",
    "\n",
    "# plot do gráfico da função.\n",
    "rcParams['figure.figsize'] = (8.0, 6.0) # dimensões do gráfico\n",
    "w = np.arange(0.0, 300.0, 1)\n",
    "plt.plot(w, f(w), root1, f(root1),'ro') # plot da função junto com o ponto da solução. \n",
    "plt.xlabel('$\\omega$')\n",
    "plt.ylabel('$f(\\omega)$')\n",
    "plt.annotate('SOLUÇÃO', xy=(root1, f(root1)), xytext=(210, 6),\n",
    "            arrowprops=dict(facecolor='green', shrink=0.05),\n",
    "            )\n",
    "plt.ylim(-2,20)\n",
    "plt.title('Distribuição de valores para $\\omega$')\n",
    "plt.grid(True)\n",
    "plt.show()"
   ]
  },
  {
   "cell_type": "markdown",
   "metadata": {},
   "source": [
    "<!-- Não apague o div -->\n",
    "<div class=\"solucao alert alert-success\">\n",
    "\n",
    "A convergência do método para a falsa posição é lenta pois a função é muito CÔNCAVA. Primeiramente o ponto a = 1 não varia ao longo da execução o que deixa a convergência mais lenta. Além disso o ponto b inicialmente igual a 1000 varia muito pouco em direção a raiz da função para cada iteração. Para esses casos o método da regula falsi modificado teria melhor aproveitamento.\n",
    "<!-- Não apague o div -->\n",
    "</div>"
   ]
  },
  {
   "cell_type": "markdown",
   "metadata": {},
   "source": [
    "----"
   ]
  },
  {
   "cell_type": "markdown",
   "metadata": {},
   "source": [
    "# Aparência do Notebook\n",
    "\n",
    "A célula abaixo contém código cuja única finalidade é modificar a aparência do notebook após a célula ser executada."
   ]
  },
  {
   "cell_type": "code",
   "execution_count": null,
   "metadata": {
    "collapsed": false,
    "scrolled": false
   },
   "outputs": [],
   "source": [
    "from IPython.core.display import HTML, display\n",
    "\n",
    "# O arquivo styles.css deve estar na mesma pasta que o notebook\n",
    "def css_styling():\n",
    "    try:\n",
    "        styles = open(\"./styles.css\", \"r\").read()\n",
    "        html = \"<style>{0}</style>\".format(styles)\n",
    "    except FileNotFoundError:\n",
    "        html = \"<b style=\\\"font-size: 25px\\\">Arquivo 'styles.css' não encontrado</b>\"\n",
    "    return HTML(html)\n",
    "display(css_styling())"
   ]
  }
 ],
 "metadata": {
  "anaconda-cloud": {},
  "kernelspec": {
   "display_name": "Python [Root]",
   "language": "python",
   "name": "Python [Root]"
  },
  "language_info": {
   "codemirror_mode": {
    "name": "ipython",
    "version": 3
   },
   "file_extension": ".py",
   "mimetype": "text/x-python",
   "name": "python",
   "nbconvert_exporter": "python",
   "pygments_lexer": "ipython3",
   "version": "3.5.2"
  }
 },
 "nbformat": 4,
 "nbformat_minor": 1
}
