{
 "cells": [
  {
   "cell_type": "markdown",
   "metadata": {},
   "source": [
    "# Departamento de Engenharia de Teleinformática\n",
    "\n",
    "# Computação Numérica / Métodos Numéricos\n",
    "\n",
    "# Tarcisio Ferreira Maciel, Dr.-Ing. (Professor: [maciel@ufc.br](mailto:maciel@ufc.br))\n",
    "\n",
    "# Darlan Cavalcante Moreira, M.Sc. (Colaborador: [darlan@gtel.ufc.br](mailto:darlan@gtel.ufc.br))"
   ]
  },
  {
   "cell_type": "markdown",
   "metadata": {},
   "source": [
    "## Identificação do aluno\n",
    "\n",
    "Nome: Ariel da Silva Barros\n",
    "\n",
    "Matrícula: 374918"
   ]
  },
  {
   "cell_type": "markdown",
   "metadata": {},
   "source": [
    "## Instruções\n",
    "\n",
    "As questões abaixo devem ser resolvidas aqui mesmo no **Jupyter Notebook** e podem envolver tanto soluções escritas em markdown (veja sintaxe para markdown [aqui](https://daringfireball.net/projects/markdown/basics)), como soluções em código. A questão 0 abaixo serve de exemplo de como as questões devem ser resolvidas.\n",
    "\n",
    "<div class=\"alert alert-warning\">\n",
    "**Dica:** em células markdown vocês podem usar dois espaços para criar uma quebra de linha.\n",
    "</div>"
   ]
  },
  {
   "cell_type": "markdown",
   "metadata": {},
   "source": [
    "## Questão 0\n",
    "\n",
    "Para entender como as questões devem ser resolvidas, faça:\n",
    "\n",
    "1. Em que país estamos?\n",
    "2. Implemente uma função que retorne o dobro da entrada\n"
   ]
  },
  {
   "cell_type": "markdown",
   "metadata": {},
   "source": [
    "## Solução de 0\n",
    "\n",
    "<!-- Não apague o div -->\n",
    "<div class=\"solucao alert alert-success\">\n",
    "\n",
    "Estamos no Brasil.\n",
    "\n",
    "<!-- Não apague o div -->\n",
    "</div>"
   ]
  },
  {
   "cell_type": "code",
   "execution_count": 1,
   "metadata": {
    "collapsed": true
   },
   "outputs": [],
   "source": [
    "# Solução de 2: Implementação em python\n",
    "def dobro(x):\n",
    "    return 2 * x"
   ]
  },
  {
   "cell_type": "markdown",
   "metadata": {},
   "source": [
    "----"
   ]
  },
  {
   "cell_type": "markdown",
   "metadata": {},
   "source": [
    "## Questão 1\n",
    "Escreva um programa em C/C++11 e uma **função** equivalente em Python 3.X que leia um número de ponto flutuante de 32 ou 64 bits e que imprima esse os bits desse número no formato IEEE-754 $b_S|b_1 b_2 \\ldots b_E|b_1 b_2 \\ldots b_M$ onde (S, E, M) é igual a (1, 8, 23) para precisão simples e (1, 11, 52) para precisão dupla. Note que nesta questão é suficiente imprimir a forma binária do número não sendo necessário implementar o processo de normalização."
   ]
  },
  {
   "cell_type": "markdown",
   "metadata": {},
   "source": [
    "## Solução em C/C++11:\n",
    "\n",
    "Edite e coloque o código na célula Markdown abaixo."
   ]
  },
  {
   "cell_type": "markdown",
   "metadata": {},
   "source": [
    "```C++\n",
    "#include <iostream>\n",
    "\n",
    "int main(int argc, char *argv[]) {\n",
    "    // O código de sua solução deve vir aqui.\n",
    "    return 0;\n",
    "}\n",
    "```"
   ]
  },
  {
   "cell_type": "markdown",
   "metadata": {},
   "source": [
    "## Solução em Python 3.X:"
   ]
  },
  {
   "cell_type": "code",
   "execution_count": null,
   "metadata": {
    "collapsed": true
   },
   "outputs": [],
   "source": [
    "# Implemente sua solução aqui acompanhada de um exemplo de uso."
   ]
  },
  {
   "cell_type": "markdown",
   "metadata": {},
   "source": [
    "## Questão 2\n",
    "Escreva uma **função** programa em Python 3.X que  **implemente** o processo de normalização para converter um número de ponto flutuante de 32 ou 64 bits para sua forma binária no padrão IEEE-754."
   ]
  },
  {
   "cell_type": "code",
   "execution_count": null,
   "metadata": {
    "collapsed": true
   },
   "outputs": [],
   "source": [
    "# Implemente sua solução aqui acompanhada de um exemplo de uso.\n",
    "def normalization(floatingPoint):\n",
    "    \n",
    "    "
   ]
  },
  {
   "cell_type": "markdown",
   "metadata": {},
   "source": [
    "## Questão 3\n",
    "Utilizando o contéudo da seção 3.4.1 do livro *Métodos Numéricos para Engenharia, 5a. Ed.* de *Steven Chapra & Raymond Canale* faça:\n",
    "\n",
    "1. Crie um conjunto de números hipotético em ponto flutuante para uma máquina que armazena informação usando palavras de 8 bits com (1, 3, 5) para (S, E, M). Considere que o expoente seja polarizado. Determine também o $\\varepsilon$ da máquina.\n",
    "\n",
    "2. Escreva uma **função** em Python 3.X que determine o epsilon de seu computador."
   ]
  },
  {
   "cell_type": "markdown",
   "metadata": {},
   "source": [
    "## Solução:\n",
    "\n",
    "<!-- Não apague o div -->\n",
    "<div class=\"solucao alert alert-success\">\n",
    "\n",
    "Escreva aqui sua solução de 1.\n",
    "\n",
    "<!-- Não apague o div -->\n",
    "</div>"
   ]
  },
  {
   "cell_type": "code",
   "execution_count": 49,
   "metadata": {
    "collapsed": false
   },
   "outputs": [
    {
     "data": {
      "text/plain": [
       "2.220446049250313e-16"
      ]
     },
     "execution_count": 49,
     "metadata": {},
     "output_type": "execute_result"
    }
   ],
   "source": [
    "# Implemente sua solução de 2 aqui acompanhada de um exemplo de uso.\n",
    "\n",
    "def epsDeMaquina(eps, display):\n",
    "    i = 0 # variável para registrar o número de iterações\n",
    "    while 1 + eps != 1: # a condição de parada é achar um número tão pequeno que seja o limite para que o número 1 não mude.\n",
    "        epsMenor = eps # o eps atual é armazenado até que que outro eps menor que ele seja testado.\n",
    "        eps = eps / 2 # a cada iteração o eps é dividido por 2 de modo a reprensentar um número cada vez menor na mantissa.\n",
    "        if display:\n",
    "            print('iteração {0}: {1}'.format(i, eps))\n",
    "        i+=1\n",
    "    return epsMenor\n",
    "\n",
    "epsDeMaquina(1,False) # chamada da função com o eps inicial igual a 1"
   ]
  },
  {
   "cell_type": "markdown",
   "metadata": {},
   "source": [
    "## Questão 4\n",
    "Escreva funções em Python 3.X que calculem $e^{-5}$ usando\n",
    "\n",
    "1. $e^{-x} = 1 - x + \\dfrac{x^2}{2!} - \\dfrac{x^2}{3!} + \\ldots $,\n",
    "2. $e^{-x} = \\dfrac{1}{e^x} = \\dfrac{1}{1 + x + \\dfrac{x^2}{2!} + \\dfrac{x^2}{3!} + \\ldots} $,\n",
    "\n",
    "e compare com o valor exato. Considere os $N$ (fornecido como parâmetro) primeiros termos e apresente o erro relativo absoluto para cada termo que for adicionado."
   ]
  },
  {
   "cell_type": "code",
   "execution_count": null,
   "metadata": {
    "collapsed": false
   },
   "outputs": [],
   "source": [
    "# Implemente sua solução aqui acompanhada de um exemplo de uso.\n",
    "import numpy as np\n",
    "\n",
    "se = np.exp(-5) # Se = 0.006737946999085467\n",
    "\n",
    "def erroRelativoAbsoluto(y):\n",
    "    return abs( (se - y) / se)\n",
    "    \n",
    "\n",
    "def f(x,N): # Usando a primeira expansão. \n",
    "    y = 0\n",
    "    for n in range(0,N+1): # para ir iterando os termos da série.\n",
    "        y += (-x) ** n / np.math.factorial(n) # cálculo de cada termo\n",
    "        print(\"{} termo(s) Erro = {}\".format(n+1, erroRelativoAbsoluto(y)))\n",
    "    return y\n",
    "\n",
    "def g(x,N): # Usando a segunda expansão.\n",
    "    y = 0\n",
    "    for n in range(0,N+1): # para ir iterando os termos da série.\n",
    "        y += x ** n / np.math.factorial(n)\n",
    "        print(\"{} termo(s) Erro = {}\".format(n+1, erroRelativoAbsoluto(y)))\n",
    "    return 1 / y\n",
    "\n",
    "print(\"resultado para a expansão 1: \", f(5,20))\n",
    "print(\"resultado para a expansão 2: \", g(5,20))"
   ]
  },
  {
   "cell_type": "markdown",
   "metadata": {},
   "source": [
    "## Questão 5\n",
    "Calcule o polinômio $p(x) = x^3 - 7x^2 + 8x - 0,35 $ em $ x = 1,37 $. Use aritmética com 3 algarismos significativos e  e **truncamento**. Calcule o erro relativo absoluto comparado ao valor exato de $p(x)$. Repita o processo considerando $p(x)$ expresso como $p(x) = ((x - 7)x + 8)x - 0,35$. Apresente sua solução em texto e em Python 3.X."
   ]
  },
  {
   "cell_type": "markdown",
   "metadata": {},
   "source": [
    "## Solução:\n",
    "\n",
    "<!-- Não apague o div -->\n",
    "<div class=\"solucao alert alert-success\">\n",
    "\n",
    "Calculando $p(x)$ com 3 algarismos em todos os passos tem-se: <br/> <br/>\n",
    "$p(1,37) = (1,37)^3 - 7(1,37)^2 + 8(1,37) - 0.35$ <br/>\n",
    "$p(1,37) = 2,57 - 13,1 + 10,9 - 0,35 $ <br/>\n",
    "$p(1,37) = -10,5 + 10,9 - 0,35$ <br/>\n",
    "$p(1,37) = 0.05$ <br/> <br/>\n",
    "\n",
    "Calculando com toda a precisão da calculadora: <br/> \n",
    "$p(1,37) = (1,37)^3 - 7(1,37) ^2 + 8(1,37) - 0.35$ <br/>\n",
    "$p(1,37) = 0,043053$ <br/> <br/>\n",
    "\n",
    "Logo, o erro absoluto é: <br/>\n",
    "$E_{Abs} = | S_{Exata} - S_{Num} |$ <br/>\n",
    "$E_{Abs} = | 0,043053 - 0.05 | = 6.947x10^{-3}$ <br/><br/>\n",
    "\n",
    "E o erro relativo é:\n",
    "\n",
    "\n",
    "\n",
    "$p(x) = ((x - 7)x + 8)x - 0,35$\n",
    "<!-- Não apegue o div -->\n",
    "</div>"
   ]
  },
  {
   "cell_type": "code",
   "execution_count": 10,
   "metadata": {
    "collapsed": false
   },
   "outputs": [
    {
     "name": "stdout",
     "output_type": "stream",
     "text": [
      "Resultado da primeira definição de p(x) com 3 algarismos significativos: 0.0500\n",
      "Resultado da primeira definição de p(x) usando toda a precisão do computador: 0.04305300000000012\n",
      "Erro Relativo Absoluto da primeira definição de p(x): 0.13893999999999768\n",
      "-------------------------------------------------------------------------------------------------\n",
      "Resultado da segunda definição de p(x) com 3 algarismos significativos: 0.0470\n",
      "Resultado da primeira definição de p(x) usando toda a precisão do computador: 0.043052999999999064\n",
      "Erro Relativo Absoluto da segunda definição de p(x): 0.08397872340427523\n"
     ]
    }
   ],
   "source": [
    "from decimal import *\n",
    "getcontext().prec = 3 # Usando 3 algarismos significativos.\n",
    "\n",
    "# Usando a primeira definição de p(x) com 3 algarismos significativos.\n",
    "def p(x):\n",
    "    return Decimal(x) ** 3 - 7 * Decimal(x) ** 2 + 8 * Decimal(x) - Decimal(0.35)\n",
    "\n",
    "# Usando a primeira definição de p(x) com toda a precisão do computador. \n",
    "def p2(x):\n",
    "    return x ** 3 - 7 * x ** 2 + 8 * x - 0.35\n",
    "\n",
    "# Usando a segunda definição de p(x) com 3 algarismos significativos.\n",
    "def q(x):\n",
    "    return ((Decimal(x) - 7) * Decimal(x) + 8) * Decimal(x) - Decimal(0.35)\n",
    "\n",
    "# Usando a segunda definição de p(x) com toda a precisão do computador.\n",
    "def q2(x):\n",
    "    return ((x - 7) * x + 8) * x - 0.35\n",
    "\n",
    "def erroRelativoAbsoluto(se,sn):\n",
    "    return abs( (se - sn) / se)\n",
    "\n",
    "print(\"Resultado da primeira definição de p(x) com 3 algarismos significativos: {}\".format(p(1.37)))\n",
    "print(\"Resultado da primeira definição de p(x) usando toda a precisão do computador: {}\".format(p2(1.37)))\n",
    "print(\"Erro Relativo Absoluto da primeira definição de p(x): {}\".format(erroRelativoAbsoluto(float( p(1.37)) , p2(1.37) )))\n",
    "print(\"-------------------------------------------------------------------------------------------------\")\n",
    "print(\"Resultado da segunda definição de p(x) com 3 algarismos significativos: {}\".format(q(1.37)))\n",
    "print(\"Resultado da primeira definição de p(x) usando toda a precisão do computador: {}\".format(q2(1.37)))\n",
    "print(\"Erro Relativo Absoluto da segunda definição de p(x): {}\".format(erroRelativoAbsoluto(float( q(1.37)) , q2(1.37) )))\n"
   ]
  },
  {
   "cell_type": "markdown",
   "metadata": {},
   "source": [
    "## Questão 6\n",
    "Escreva um programa em Python 3.X para determinar o número de termos necessários para aproximar $ \\cos(0,3\\pi) $ a partir da sua expansão em série de MacLaurin até 8 algarismos significativos."
   ]
  },
  {
   "cell_type": "markdown",
   "metadata": {},
   "source": [
    "## Solução:\n",
    "\n",
    "<!-- Não apague o div -->\n",
    "<div class=\"solucao alert alert-success\">\n",
    "\n",
    "Apresente a solução textual aqui.\n",
    "\n",
    "A série de MacLaurin nada mais é do que a série de taylor em torno de 0. Assumindo a série de maclaurin dada como $cos(x)$\n",
    "\n",
    "<!-- Não apague o div -->\n",
    "</div>"
   ]
  },
  {
   "cell_type": "code",
   "execution_count": null,
   "metadata": {
    "collapsed": true
   },
   "outputs": [],
   "source": [
    "# Implemente sua solução aqui."
   ]
  },
  {
   "cell_type": "markdown",
   "metadata": {},
   "source": [
    "## Questão 7\n",
    "A razão áurea pode ser definida como a razão que divide um segmento de tamanho $a + b$ de tal modo que a parte menor $a$ está para a parte maior $b$ na mesma proporção que a parte maior $b$ está para o todo $a + b$. Crie uma função ```Python GoldenSection(f, a, b, tol)``` em Python 3.X que implemente uma versão do método da bisseção que divida o intervalo segundo a razão áurea. Implemente também uma função ```Python Bissection(f, a, b, tol)``` que implemente o método da bisseção clássico e compare os dois métodos através de um exemplo de aplicação."
   ]
  },
  {
   "cell_type": "markdown",
   "metadata": {},
   "source": [
    "## Solução:\n",
    "\n",
    "<!-- Não apague o div -->\n",
    "<div class=\"solucao alert alert-success\">\n",
    "\n",
    "Descreva aqui seu exemplo de aplicação.\n",
    "\n",
    "<!-- Não apague o div -->\n",
    "</div>"
   ]
  },
  {
   "cell_type": "code",
   "execution_count": 27,
   "metadata": {
    "collapsed": false
   },
   "outputs": [
    {
     "name": "stdout",
     "output_type": "stream",
     "text": [
      "0 iteração: Xns =  2.5  | f(Xns) =  0.26527855896\n",
      "1 iteração: Xns =  1.75  | f(Xns) =  -6.77735946874\n",
      "2 iteração: Xns =  2.125  | f(Xns) =  -3.98757289818\n",
      "3 iteração: Xns =  2.3125  | f(Xns) =  -2.02553096335\n",
      "4 iteração: Xns =  2.40625  | f(Xns) =  -0.918374009863\n",
      "5 iteração: Xns =  2.453125  | f(Xns) =  -0.335723927378\n",
      "6 iteração: Xns =  2.4765625  | f(Xns) =  -0.0374667917287\n",
      "7 iteração: Xns =  2.48828125  | f(Xns) =  0.113351202941\n",
      "8 iteração: Xns =  2.482421875  | f(Xns) =  0.0378027376366\n",
      "9 iteração: Xns =  2.4794921875  | f(Xns) =  0.000133006629639\n",
      "10 iteração: Xns =  2.47802734375  | f(Xns) =  -0.0186756465224\n",
      "11 iteração: Xns =  2.478759765625  | f(Xns) =  -0.00927350689171\n",
      "12 iteração: Xns =  2.4791259765625  | f(Xns) =  -0.00457079667379\n",
      "13 iteração: Xns =  2.47930908203125  | f(Xns) =  -0.00221903163356\n",
      "14 iteração: Xns =  2.479400634765625  | f(Xns) =  -0.00104304665181\n",
      "15 iteração: Xns =  2.4794464111328125  | f(Xns) =  -0.000455028548167\n",
      "16 iteração: Xns =  2.4794692993164062  | f(Xns) =  -0.000161013093487\n",
      "17 iteração: Xns =  2.479480743408203  | f(Xns) =  -1.40037654734e-05\n",
      "18 iteração: Xns =  2.4794864654541016  | f(Xns) =  5.95012986961e-05\n",
      "19 iteração: Xns =  2.4794836044311523  | f(Xns) =  2.27487332651e-05\n",
      "20 iteração: Xns =  2.4794821739196777  | f(Xns) =  4.37247555851e-06\n",
      "21 iteração: Xns =  2.4794814586639404  | f(Xns) =  -4.81564704202e-06\n",
      "Usando Bissecção: 2.479481816291809\n"
     ]
    }
   ],
   "source": [
    "# Implemente sua solução aqui.\n",
    "\n",
    "def f(x):\n",
    "    return x**2 - 10*np.sin(x) # mudar depois essa função\n",
    "    \n",
    "def GoldenSection(f, a, b, tol):\n",
    "    if f(a)*f(b) > 0:\n",
    "        print(\"Error: não há zeros de função no intervalo dado\")\n",
    "    else:\n",
    "        phi = 1.61803398875 # golden ratio, a prova á facilmente encontrada na wikipédia.(mecher nisso aqui depois)\n",
    "        xns = (b + phi*a) / 1 + phi;\n",
    "        numIter = 0\n",
    "        while abs(f(xns)) > tol:\n",
    "            print(numIter, \"iteração: Xns = \", xns, \" | f(Xns) = \", f(xns))\n",
    "            if f(a)*f(xns) < 0:\n",
    "                b = xns\n",
    "            if f(xns)*f(b) < 0:\n",
    "                a = xns\n",
    "            xns = (b + phi*a) / 1 + phi;\n",
    "            numIter += 1\n",
    "        return xns\n",
    "\n",
    "def Bissection(a,b, tol):\n",
    "    if f(a)*f(b) > 0:\n",
    "        print(\"Error: não há zeros de função no intervalo dado\")\n",
    "    else:\n",
    "        xns = (a + b) / 2;\n",
    "        numIter = 0\n",
    "        while abs(f(xns)) > tol:\n",
    "            print(numIter, \"iteração: Xns = \", xns, \" | f(Xns) = \", f(xns))\n",
    "            if f(a)*f(xns) < 0:\n",
    "                b = xns\n",
    "            if f(xns)*f(b) < 0:\n",
    "                a = xns\n",
    "            xns = (a + b) / 2;\n",
    "            numIter += 1\n",
    "        return xns\n",
    "\n",
    "print(\"Usando Bissecção: {}\".format(Bissection(1,4,10**-6)))"
   ]
  },
  {
   "cell_type": "markdown",
   "metadata": {},
   "source": [
    "## Questão 8\n",
    "A fim de atenuar a natureza frequentemente unilateral do método da falsa posição, implemente uma **função** em ```Python ModifiedRegulaFalsi(f, a, b, tol)``` em Python 3.X que divida por dois o valor de $f(x)$ no limite do intervalo que permanecer inalterado por três iterações consecutivas, substituindo assim a secante do método original por uma reta de menor inclinação (veja o exercício 3.18 do livro *Métodos Numéricos para Engenheiros e Cientistas* de *Amos Gilat & Vish Subramaniam*). Crie também uma função ```Python RegulaFalsi(f, a, b, tol)``` que implemente o método original. Compare os métodos através de um exemplo de aplicação."
   ]
  },
  {
   "cell_type": "markdown",
   "metadata": {},
   "source": [
    "## Solução:\n",
    "\n",
    "<!-- Não apague o div -->\n",
    "<div class=\"solucao alert alert-success\">\n",
    "\n",
    "Descreva aqui seu exemplo de aplicação.\n",
    "\n",
    "<!-- Não apague o div -->\n",
    "</div>"
   ]
  },
  {
   "cell_type": "code",
   "execution_count": 2,
   "metadata": {
    "collapsed": true
   },
   "outputs": [],
   "source": [
    "# Implemente sua solução aqui com um exemplo de aplicação.\n",
    "\n",
    "def f(x):\n",
    "    return x**2 - 10*np.sin(x)\n",
    "\n",
    "def ModifiedRegulaFalsi(f, a, b, tol):\n",
    "    \n",
    "def falsaPosicao(a,b,tolerance):\n",
    "    if f(a)*f(b) > 0:\n",
    "        print(\"Não existe solução para o intervalo dado\")\n",
    "        return null\n",
    "    else:\n",
    "        xns = (a*f(b) - b*f(a)) / (f(b) - f(a)) # definindo valor inicial de xns\n",
    "        numIter = 0\n",
    "        while abs(f(xns)) > tolerance:\n",
    "            print(numIter, \"iteração: Xns = \", xns, \" | f(Xns) = \", f(xns))\n",
    "            if f(a)*f(xns) < 0:\n",
    "                b = xns\n",
    "            if f(xns)*f(b) < 0:\n",
    "                a = xns\n",
    "            xns = (a*f(b) - b*f(a)) / (f(b) - f(a))\n",
    "            numIter += 1\n",
    "        return xns"
   ]
  },
  {
   "cell_type": "markdown",
   "metadata": {},
   "source": [
    "## Questão 9\n",
    "Em vez de usar dois valores arbitrários para fazer uma estimativa da derivada, uma abordagem alternativa envolve utilizar uma pequena perturbação $\\delta x$ da variável independente $x$ para fazer\n",
    "$$f'(x_i) \\approxeq \\dfrac{f(x_i + \\delta x_i) - f(x_i)}{\\delta x_i} $$\n",
    "onde $\\delta$ é uma pequena fração de perturbação. Utilizando essa formulação, implemente uma função ```Python ModifiedSecant(f, x, delta, tol)``` em Python 3.X para o método da secante."
   ]
  },
  {
   "cell_type": "markdown",
   "metadata": {},
   "source": [
    "## Solução:\n",
    "\n",
    "<!-- Não apague o div -->\n",
    "<div class=\"solucao alert alert-success\">\n",
    "\n",
    "Apresente a solução textual aqui.\n",
    "\n",
    "<!-- Não apague o div -->\n",
    "</div>"
   ]
  },
  {
   "cell_type": "code",
   "execution_count": null,
   "metadata": {
    "collapsed": true
   },
   "outputs": [],
   "source": [
    "# Implemente sua solução aqui."
   ]
  },
  {
   "cell_type": "markdown",
   "metadata": {},
   "source": [
    "## Questão 10\n",
    "\n",
    "Solucione utilizando **Python 3.X** as questões 3.23, 3.29, 3.30 e 3.33 (esta última pelos métodos do ponto fixo e de Newton) do livro *Métodos Numéricos para Engenheiros e Cientistas* de *Amos Gilat & Vish Subramaniam*. Sempre que possível suas soluções devem ser genéricas o suficiente para permitir a variação de parâmetros. Sempre que possível, enriqueça suas soluções com a utilização de gráficos, equações e textos explicativos.\n",
    "\n",
    "<div class=\"alert alert-warning\">\n",
    "**Nota**: Para resolver essa questão vocês precisarão criar uma ou mais células abaixo dessa.\n",
    "</div>"
   ]
  },
  {
   "cell_type": "markdown",
   "metadata": {},
   "source": [
    "## Questão 11\n",
    "\n",
    "Solucione utilizando **Python 3.X** as questões 8.28, 8.30, 8.32 do livro *Métodos Numéricos para Engenharia, 5a. Ed.* de *Steven Chapra & Raymond Canale*. Sempre que possível suas soluções devem ser genéricas o suficiente para permitir a variação de parâmetros. Sempre que possível, enriqueça suas soluções com a utilização de gráficos, equações e textos explicativos.\n",
    "\n",
    "<div class=\"alert alert-warning\">\n",
    "**Nota**: Para resolver essa questão vocês precisarão criar uma ou mais células abaixo dessa.\n",
    "</div>"
   ]
  },
  {
   "cell_type": "markdown",
   "metadata": {},
   "source": [
    "----"
   ]
  },
  {
   "cell_type": "markdown",
   "metadata": {},
   "source": [
    "# Aparência do Notebook\n",
    "\n",
    "A célula abaixo contém código cuja única finalidade é modificar a aparência do notebook após a célula ser executada."
   ]
  },
  {
   "cell_type": "code",
   "execution_count": 1,
   "metadata": {
    "collapsed": false,
    "scrolled": false
   },
   "outputs": [
    {
     "data": {
      "text/html": [
       "<style>#notebook-container {\n",
       "    /* background-color: #aaaaaa; */\n",
       "}\n",
       "h1 {\n",
       "    margin: 10px !important;\n",
       "    text-align: center !important;\n",
       "    font-size: 14px;\n",
       "}\n",
       "\n",
       "div#notebook, div.CodeMirror, div.output_area pre, div.output_wrapper, div.prompt {\n",
       "  font-family: 'Inconsolata', monospace !important;\n",
       "  font-size: 13px;\n",
       "}\n",
       "\n",
       ".solucao {\n",
       "    /* color: green; */\n",
       "    margin-top: 10px;\n",
       "}\n",
       "\n",
       "\n",
       ".vermelho {\n",
       "    color: red;\n",
       "    /* margin-top: 10px; */\n",
       "}\n",
       "</style>"
      ],
      "text/plain": [
       "<IPython.core.display.HTML object>"
      ]
     },
     "metadata": {},
     "output_type": "display_data"
    }
   ],
   "source": [
    "from IPython.core.display import HTML, display\n",
    "\n",
    "# O arquivo styles.css deve estar na mesma pasta que o notebook\n",
    "def css_styling():\n",
    "    try:\n",
    "        styles = open(\"./styles.css\", \"r\").read()\n",
    "        html = \"<style>{0}</style>\".format(styles)\n",
    "    except FileNotFoundError:\n",
    "        html = \"<b style=\\\"font-size: 25px\\\">Arquivo 'styles.css' não encontrado</b>\"\n",
    "    return HTML(html)\n",
    "display(css_styling())"
   ]
  }
 ],
 "metadata": {
  "anaconda-cloud": {},
  "kernelspec": {
   "display_name": "Python [Root]",
   "language": "python",
   "name": "Python [Root]"
  },
  "language_info": {
   "codemirror_mode": {
    "name": "ipython",
    "version": 3
   },
   "file_extension": ".py",
   "mimetype": "text/x-python",
   "name": "python",
   "nbconvert_exporter": "python",
   "pygments_lexer": "ipython3",
   "version": "3.5.2"
  }
 },
 "nbformat": 4,
 "nbformat_minor": 1
}
