{
 "cells": [
  {
   "cell_type": "markdown",
   "metadata": {},
   "source": [
    "### Exercício - Usando método da bisseção\n",
    "Dado a função: $ f(x) = x^2 - 10sen(x)$ ache suas raízes com tolerância $ \\epsilon = 10^{-6}$."
   ]
  },
  {
   "cell_type": "code",
   "execution_count": 2,
   "metadata": {
    "collapsed": true,
    "scrolled": true
   },
   "outputs": [],
   "source": [
    "import numpy as np"
   ]
  },
  {
   "cell_type": "code",
   "execution_count": 3,
   "metadata": {
    "collapsed": true
   },
   "outputs": [],
   "source": [
    "def f(x):\n",
    "    return x**2 - 10*np.sin(x)"
   ]
  },
  {
   "cell_type": "code",
   "execution_count": 4,
   "metadata": {
    "collapsed": true,
    "scrolled": true
   },
   "outputs": [],
   "source": [
    "def bissection(a,b, tolerance):\n",
    "    if f(a)*f(b) > 0:\n",
    "        print(\"Error: não há zeros de função no intervalo dado\")\n",
    "    else:\n",
    "        xns = (a + b) / 2;\n",
    "        numIter = 0\n",
    "        while abs(f(xns)) > tolerance:\n",
    "            print(numIter, \"iteração: Xns = \", xns, \" | f(Xns) = \", f(xns))\n",
    "            if f(a)*f(xns) < 0:\n",
    "                b = xns\n",
    "            if f(xns)*f(b) < 0:\n",
    "                a = xns\n",
    "            xns = (a + b) / 2;\n",
    "            numIter += 1\n",
    "        return xns"
   ]
  },
  {
   "cell_type": "code",
   "execution_count": 5,
   "metadata": {
    "collapsed": false,
    "scrolled": true
   },
   "outputs": [
    {
     "name": "stdout",
     "output_type": "stream",
     "text": [
      "0 iteração: Xns =  2.5  | f(Xns) =  0.26527855896\n",
      "1 iteração: Xns =  1.75  | f(Xns) =  -6.77735946874\n",
      "2 iteração: Xns =  2.125  | f(Xns) =  -3.98757289818\n",
      "3 iteração: Xns =  2.3125  | f(Xns) =  -2.02553096335\n",
      "4 iteração: Xns =  2.40625  | f(Xns) =  -0.918374009863\n",
      "5 iteração: Xns =  2.453125  | f(Xns) =  -0.335723927378\n",
      "6 iteração: Xns =  2.4765625  | f(Xns) =  -0.0374667917287\n",
      "7 iteração: Xns =  2.48828125  | f(Xns) =  0.113351202941\n",
      "8 iteração: Xns =  2.482421875  | f(Xns) =  0.0378027376366\n",
      "9 iteração: Xns =  2.4794921875  | f(Xns) =  0.000133006629639\n",
      "10 iteração: Xns =  2.47802734375  | f(Xns) =  -0.0186756465224\n",
      "11 iteração: Xns =  2.478759765625  | f(Xns) =  -0.00927350689171\n",
      "12 iteração: Xns =  2.4791259765625  | f(Xns) =  -0.00457079667379\n",
      "13 iteração: Xns =  2.47930908203125  | f(Xns) =  -0.00221903163356\n",
      "14 iteração: Xns =  2.479400634765625  | f(Xns) =  -0.00104304665181\n",
      "15 iteração: Xns =  2.4794464111328125  | f(Xns) =  -0.000455028548167\n",
      "16 iteração: Xns =  2.4794692993164062  | f(Xns) =  -0.000161013093487\n",
      "17 iteração: Xns =  2.479480743408203  | f(Xns) =  -1.40037654734e-05\n",
      "18 iteração: Xns =  2.4794864654541016  | f(Xns) =  5.95012986961e-05\n",
      "19 iteração: Xns =  2.4794836044311523  | f(Xns) =  2.27487332651e-05\n",
      "20 iteração: Xns =  2.4794821739196777  | f(Xns) =  4.37247555851e-06\n",
      "21 iteração: Xns =  2.4794814586639404  | f(Xns) =  -4.81564704202e-06\n"
     ]
    },
    {
     "data": {
      "text/plain": [
       "2.479481816291809"
      ]
     },
     "execution_count": 5,
     "metadata": {},
     "output_type": "execute_result"
    }
   ],
   "source": [
    "bissection(1,4,10**-6)"
   ]
  },
  {
   "cell_type": "code",
   "execution_count": 6,
   "metadata": {
    "collapsed": false,
    "scrolled": true
   },
   "outputs": [
    {
     "name": "stdout",
     "output_type": "stream",
     "text": [
      "0 iteração: Xns =  0.5  | f(Xns) =  -4.54425538604\n",
      "1 iteração: Xns =  -0.25  | f(Xns) =  2.53653959255\n",
      "2 iteração: Xns =  0.125  | f(Xns) =  -1.23112233385\n",
      "3 iteração: Xns =  -0.0625  | f(Xns) =  0.628499428424\n",
      "4 iteração: Xns =  0.03125  | f(Xns) =  -0.311472577353\n",
      "5 iteração: Xns =  -0.015625  | f(Xns) =  0.156487782874\n",
      "6 iteração: Xns =  0.0078125  | f(Xns) =  -0.0780631701176\n",
      "7 iteração: Xns =  -0.00390625  | f(Xns) =  0.0390776594481\n",
      "8 iteração: Xns =  0.001953125  | f(Xns) =  -0.0195274228851\n",
      "9 iteração: Xns =  -0.0009765625  | f(Xns) =  0.00976657712211\n",
      "10 iteração: Xns =  0.00048828125  | f(Xns) =  -0.0048825738874\n",
      "11 iteração: Xns =  -0.000244140625  | f(Xns) =  0.00244146583039\n",
      "12 iteração: Xns =  0.0001220703125  | f(Xns) =  -0.00122068822081\n",
      "13 iteração: Xns =  -6.103515625e-05  | f(Xns) =  0.000610355287411\n",
      "14 iteração: Xns =  3.0517578125e-05  | f(Xns) =  -0.00030517484988\n",
      "15 iteração: Xns =  -1.52587890625e-05  | f(Xns) =  0.00015258812345\n",
      "16 iteração: Xns =  7.62939453125e-06  | f(Xns) =  -7.62938871041e-05\n",
      "17 iteração: Xns =  -3.814697265625e-06  | f(Xns) =  3.81469872081e-05\n",
      "18 iteração: Xns =  1.9073486328125e-06  | f(Xns) =  -1.90734826901e-05\n",
      "19 iteração: Xns =  -9.5367431640625e-07  | f(Xns) =  9.53674407356e-06\n",
      "20 iteração: Xns =  4.76837158203125e-07  | f(Xns) =  -4.76837135466e-06\n",
      "21 iteração: Xns =  -2.384185791015625e-07  | f(Xns) =  2.38418584786e-06\n",
      "22 iteração: Xns =  1.1920928955078125e-07  | f(Xns) =  -1.1920928813e-06\n"
     ]
    },
    {
     "data": {
      "text/plain": [
       "-5.960464477539063e-08"
      ]
     },
     "execution_count": 6,
     "metadata": {},
     "output_type": "execute_result"
    }
   ],
   "source": [
    "bissection(-1,2,10**-6)"
   ]
  },
  {
   "cell_type": "code",
   "execution_count": 7,
   "metadata": {
    "collapsed": false,
    "scrolled": true
   },
   "outputs": [
    {
     "name": "stdout",
     "output_type": "stream",
     "text": [
      "Error: não há zeros de função no intervalo dado\n"
     ]
    }
   ],
   "source": [
    "bissection(4,6,10**-6)"
   ]
  },
  {
   "cell_type": "code",
   "execution_count": null,
   "metadata": {
    "collapsed": true
   },
   "outputs": [],
   "source": []
  }
 ],
 "metadata": {
  "anaconda-cloud": {},
  "kernelspec": {
   "display_name": "Python [Root]",
   "language": "python",
   "name": "Python [Root]"
  },
  "language_info": {
   "codemirror_mode": {
    "name": "ipython",
    "version": 3
   },
   "file_extension": ".py",
   "mimetype": "text/x-python",
   "name": "python",
   "nbconvert_exporter": "python",
   "pygments_lexer": "ipython3",
   "version": "3.5.2"
  }
 },
 "nbformat": 4,
 "nbformat_minor": 0
}
