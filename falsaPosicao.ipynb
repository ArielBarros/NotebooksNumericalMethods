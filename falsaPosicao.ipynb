{
 "cells": [
  {
   "cell_type": "markdown",
   "metadata": {},
   "source": [
    "### Exercício - Usando método da falsa posição\n",
    "Dado a função: $ f(x) = x^2 - 10sen(x)$ ache suas raízes com tolerância $ \\epsilon = 10^{-6}$."
   ]
  },
  {
   "cell_type": "code",
   "execution_count": 1,
   "metadata": {
    "collapsed": false
   },
   "outputs": [],
   "source": [
    "import numpy as np"
   ]
  },
  {
   "cell_type": "code",
   "execution_count": 2,
   "metadata": {
    "collapsed": true
   },
   "outputs": [],
   "source": [
    "def f(x):\n",
    "    return x**2 - 10*np.sin(x)"
   ]
  },
  {
   "cell_type": "code",
   "execution_count": 5,
   "metadata": {
    "collapsed": true
   },
   "outputs": [],
   "source": [
    "def falsaPosicao(a,b,tolerance):\n",
    "    if f(a)*f(b) > 0:\n",
    "        print(\"Error: não há zeros de função no intervalo dado\")\n",
    "    else:\n",
    "        xns = (a*f(b) - b*f(a)) / (f(b) - f(a))\n",
    "        numIter = 0\n",
    "        while abs(f(xns)) > tolerance:\n",
    "            print(numIter, \"iteração: Xns = \", xns, \" | f(Xns) = \", f(xns))\n",
    "            if f(a)*f(xns) < 0:\n",
    "                b = xns\n",
    "            if f(xns)*f(b) < 0:\n",
    "                a = xns\n",
    "            xns = (a*f(b) - b*f(a)) / (f(b) - f(a))\n",
    "            numIter += 1\n",
    "        return xns"
   ]
  },
  {
   "cell_type": "code",
   "execution_count": 6,
   "metadata": {
    "collapsed": false
   },
   "outputs": [
    {
     "name": "stdout",
     "output_type": "stream",
     "text": [
      "0 iteração: Xns =  1.71795242373  | f(Xns) =  -6.94056013426\n",
      "1 iteração: Xns =  2.23710755292  | f(Xns) =  -2.85641984497\n",
      "2 iteração: Xns =  2.42767204761  | f(Xns) =  -0.654428347292\n",
      "3 iteração: Xns =  2.47015230221  | f(Xns) =  -0.119490815028\n",
      "4 iteração: Xns =  2.47786956349  | f(Xns) =  -0.0207005074476\n",
      "5 iteração: Xns =  2.47920532334  | f(Xns) =  -0.00355171822242\n",
      "6 iteração: Xns =  2.47943447365  | f(Xns) =  -0.000608372498009\n",
      "7 iteração: Xns =  2.47947372371  | f(Xns) =  -0.000104177991419\n",
      "8 iteração: Xns =  2.47948044488  | f(Xns) =  -1.7838610888e-05\n",
      "9 iteração: Xns =  2.47948159576  | f(Xns) =  -3.05451616267e-06\n"
     ]
    },
    {
     "data": {
      "text/plain": [
       "2.4794817928260326"
      ]
     },
     "execution_count": 6,
     "metadata": {},
     "output_type": "execute_result"
    }
   ],
   "source": [
    "falsaPosicao(1,4,10**-6)"
   ]
  },
  {
   "cell_type": "code",
   "execution_count": 7,
   "metadata": {
    "collapsed": false
   },
   "outputs": [
    {
     "name": "stdout",
     "output_type": "stream",
     "text": [
      "0 iteração: Xns =  0.946839296868  | f(Xns) =  -7.21922451854\n",
      "1 iteração: Xns =  0.101899688726  | f(Xns) =  -1.00685078908\n",
      "2 iteração: Xns =  -0.00455735832417  | f(Xns) =  0.0455941949999\n",
      "3 iteração: Xns =  5.45914078487e-05  | f(Xns) =  -0.000545911097994\n"
     ]
    },
    {
     "data": {
      "text/plain": [
       "2.4681522617634269e-08"
      ]
     },
     "execution_count": 7,
     "metadata": {},
     "output_type": "execute_result"
    }
   ],
   "source": [
    "falsaPosicao(-1,2,10**-6)"
   ]
  },
  {
   "cell_type": "code",
   "execution_count": 8,
   "metadata": {
    "collapsed": false
   },
   "outputs": [
    {
     "name": "stdout",
     "output_type": "stream",
     "text": [
      "Error: não há zeros de função no intervalo dado\n"
     ]
    }
   ],
   "source": [
    "falsaPosicao(4,6,10**-6)"
   ]
  },
  {
   "cell_type": "code",
   "execution_count": null,
   "metadata": {
    "collapsed": true
   },
   "outputs": [],
   "source": []
  }
 ],
 "metadata": {
  "anaconda-cloud": {},
  "kernelspec": {
   "display_name": "Python [Root]",
   "language": "python",
   "name": "Python [Root]"
  },
  "language_info": {
   "codemirror_mode": {
    "name": "ipython",
    "version": 3
   },
   "file_extension": ".py",
   "mimetype": "text/x-python",
   "name": "python",
   "nbconvert_exporter": "python",
   "pygments_lexer": "ipython3",
   "version": "3.5.2"
  }
 },
 "nbformat": 4,
 "nbformat_minor": 0
}
